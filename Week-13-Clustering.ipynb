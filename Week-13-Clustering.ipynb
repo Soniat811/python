{
 "cells": [
  {
   "cell_type": "code",
   "execution_count": 1,
   "metadata": {
    "collapsed": true
   },
   "outputs": [],
   "source": [
    "import numpy as np"
   ]
  },
  {
   "cell_type": "code",
   "execution_count": 5,
   "metadata": {
    "collapsed": true
   },
   "outputs": [],
   "source": [
    "# Create data\n",
    "x = np.array([1,2,3,4,5,8,9,10,11,13,15,17])\n",
    "y = np.zeros(len(x))\n",
    "#y = np.array([4,3,2,6,3,13,12,8,9,12,10,14])\n",
    "x = x.reshape(len(x),1)\n",
    "y = y.reshape(len(x),1)\n",
    "myData = np.hstack((x,y))"
   ]
  },
  {
   "cell_type": "code",
   "execution_count": 6,
   "metadata": {},
   "outputs": [
    {
     "data": {
      "image/png": "[encoded data removed]",
      "text/plain": [
       "<matplotlib.figure.Figure at 0x21f06247978>"
      ]
     },
     "metadata": {},
     "output_type": "display_data"
    }
   ],
   "source": [
    "# Plot data\n",
    "import matplotlib.pyplot as pp\n",
    "pp.scatter(myData[:,0], myData[:,1], s=50)\n",
    "pp.show()"
   ]
  },
  {
   "cell_type": "code",
   "execution_count": 4,
   "metadata": {
    "collapsed": true
   },
   "outputs": [],
   "source": [
    "# Create two centroids at random\n",
    "c1 = np.array([2,0])\n",
    "c2 = np.array([18,0])"
   ]
  },
  {
   "cell_type": "code",
   "execution_count": 7,
   "metadata": {},
   "outputs": [
    {
     "name": "stdout",
     "output_type": "stream",
     "text": [
      "[[  1.   0.   1.   2.   3.   6.   7.   8.   9.  11.  13.  15.]\n",
      " [ 17.  16.  15.  14.  13.  10.   9.   8.   7.   5.   3.   1.]]\n"
     ]
    }
   ],
   "source": [
    "from scipy.spatial import distance\n",
    "d1 = [distance.euclidean(a,c1) for a in myData]\n",
    "d2 = [distance.euclidean(a,c2) for a in myData]\n",
    "#square brackets create lists\n",
    "print (np.vstack((d1,d2)))\n",
    "#vstack stacks two lists vertically"
   ]
  },
  {
   "cell_type": "code",
   "execution_count": 8,
   "metadata": {
    "collapsed": true
   },
   "outputs": [],
   "source": [
    "diff = [a-b for a, b in zip(d1, d2)]"
   ]
  },
  {
   "cell_type": "code",
   "execution_count": 9,
   "metadata": {},
   "outputs": [
    {
     "name": "stdout",
     "output_type": "stream",
     "text": [
      "[0, 0, 0, 0, 0, 0, 0, 1, 1, 1, 1, 1]\n"
     ]
    }
   ],
   "source": [
    "clus = [1 if x >= 0 else 0 for x in diff]\n",
    "print(clus)"
   ]
  },
  {
   "cell_type": "code",
   "execution_count": 10,
   "metadata": {},
   "outputs": [
    {
     "data": {
      "text/plain": [
       "array([[  1.,   0.,   0.],\n",
       "       [  2.,   0.,   0.],\n",
       "       [  3.,   0.,   0.],\n",
       "       [  4.,   0.,   0.],\n",
       "       [  5.,   0.,   0.],\n",
       "       [  8.,   0.,   0.],\n",
       "       [  9.,   0.,   0.],\n",
       "       [ 10.,   0.,   1.],\n",
       "       [ 11.,   0.,   1.],\n",
       "       [ 13.,   0.,   1.],\n",
       "       [ 15.,   0.,   1.],\n",
       "       [ 17.,   0.,   1.]])"
      ]
     },
     "execution_count": 10,
     "metadata": {},
     "output_type": "execute_result"
    }
   ],
   "source": [
    "myData = np.hstack((myData,np.array(clus).reshape(len(clus),1)))\n",
    "myData"
   ]
  },
  {
   "cell_type": "code",
   "execution_count": 11,
   "metadata": {},
   "outputs": [
    {
     "data": {
      "text/plain": [
       "[[1.0, 0.0],\n",
       " [2.0, 0.0],\n",
       " [3.0, 0.0],\n",
       " [4.0, 0.0],\n",
       " [5.0, 0.0],\n",
       " [8.0, 0.0],\n",
       " [9.0, 0.0]]"
      ]
     },
     "execution_count": 11,
     "metadata": {},
     "output_type": "execute_result"
    }
   ],
   "source": [
    "# To calculate new median\n",
    "data1 = [[a[0],a[1]] for a in myData if a[2] == 0]\n",
    "data1"
   ]
  },
  {
   "cell_type": "code",
   "execution_count": 12,
   "metadata": {},
   "outputs": [
    {
     "data": {
      "text/plain": [
       "[[10.0, 0.0], [11.0, 0.0], [13.0, 0.0], [15.0, 0.0], [17.0, 0.0]]"
      ]
     },
     "execution_count": 12,
     "metadata": {},
     "output_type": "execute_result"
    }
   ],
   "source": [
    "# To calculate new median\n",
    "data2 = [[a[0],a[1]] for a in myData if a[2] == 1]\n",
    "data2"
   ]
  },
  {
   "cell_type": "code",
   "execution_count": null,
   "metadata": {
    "collapsed": true
   },
   "outputs": [],
   "source": [
    "# New median\n",
    "c1 = np.median(data1, axis=0)\n",
    "c1"
   ]
  },
  {
   "cell_type": "code",
   "execution_count": null,
   "metadata": {
    "collapsed": true
   },
   "outputs": [],
   "source": [
    "# New median\n",
    "c2 = np.median(data2, axis=0)\n",
    "c2"
   ]
  },
  {
   "cell_type": "code",
   "execution_count": null,
   "metadata": {
    "collapsed": true
   },
   "outputs": [],
   "source": [
    "d1 = [distance.euclidean(np.array([a[0],a[1]]),c1) for a in myData]\n",
    "d2 = [distance.euclidean(np.array([a[0],a[1]]),c2) for a in myData]\n",
    "print (np.vstack((d1,d2)))"
   ]
  },
  {
   "cell_type": "code",
   "execution_count": null,
   "metadata": {
    "collapsed": true
   },
   "outputs": [],
   "source": [
    "diff = [a-b for a, b in zip(d1, d2)]"
   ]
  },
  {
   "cell_type": "code",
   "execution_count": null,
   "metadata": {
    "collapsed": true
   },
   "outputs": [],
   "source": [
    "clus = [1 if x >= 0 else 0 for x in diff]\n",
    "print(clus)"
   ]
  },
  {
   "cell_type": "code",
   "execution_count": null,
   "metadata": {
    "collapsed": true
   },
   "outputs": [],
   "source": [
    "myData = np.hstack((myData,np.array(clus).reshape(len(clus),1)))\n",
    "myData"
   ]
  },
  {
   "cell_type": "code",
   "execution_count": null,
   "metadata": {
    "collapsed": true
   },
   "outputs": [],
   "source": [
    "# To calculate new median\n",
    "data1 = [[a[0],a[1]] for a in myData if a[2] == 0]\n",
    "data1"
   ]
  },
  {
   "cell_type": "code",
   "execution_count": null,
   "metadata": {
    "collapsed": true
   },
   "outputs": [],
   "source": [
    "# To calculate new median\n",
    "data2 = [[a[0],a[1]] for a in myData if a[2] == 1]\n",
    "data2"
   ]
  },
  {
   "cell_type": "code",
   "execution_count": null,
   "metadata": {
    "collapsed": true
   },
   "outputs": [],
   "source": [
    "# New median\n",
    "c1 = np.median(data1, axis=0)\n",
    "c1"
   ]
  },
  {
   "cell_type": "code",
   "execution_count": null,
   "metadata": {
    "collapsed": true
   },
   "outputs": [],
   "source": [
    "# New median\n",
    "c2 = np.median(data2, axis=0)\n",
    "c2"
   ]
  },
  {
   "cell_type": "code",
   "execution_count": null,
   "metadata": {
    "collapsed": true
   },
   "outputs": [],
   "source": [
    "d1 = [distance.euclidean(np.array([a[0],a[1]]),c1) for a in myData]\n",
    "d2 = [distance.euclidean(np.array([a[0],a[1]]),c2) for a in myData]\n",
    "print (np.vstack((d1,d2)))"
   ]
  },
  {
   "cell_type": "code",
   "execution_count": null,
   "metadata": {
    "collapsed": true
   },
   "outputs": [],
   "source": [
    "diff = [a-b for a, b in zip(d1, d2)]"
   ]
  },
  {
   "cell_type": "code",
   "execution_count": null,
   "metadata": {
    "collapsed": true
   },
   "outputs": [],
   "source": [
    "clus = [1 if x >= 0 else 0 for x in diff]\n",
    "print(clus)"
   ]
  },
  {
   "cell_type": "code",
   "execution_count": null,
   "metadata": {
    "collapsed": true
   },
   "outputs": [],
   "source": [
    "myData = np.hstack((myData,np.array(clus).reshape(len(clus),1)))\n",
    "myData"
   ]
  },
  {
   "cell_type": "code",
   "execution_count": null,
   "metadata": {
    "collapsed": true
   },
   "outputs": [],
   "source": [
    "# To calculate new median\n",
    "data1 = [[a[0],a[1]] for a in myData if a[2] == 0]\n",
    "data1"
   ]
  },
  {
   "cell_type": "code",
   "execution_count": null,
   "metadata": {
    "collapsed": true
   },
   "outputs": [],
   "source": [
    "# To calculate new median\n",
    "data2 = [[a[0],a[1]] for a in myData if a[2] == 1]\n",
    "data2"
   ]
  },
  {
   "cell_type": "code",
   "execution_count": null,
   "metadata": {
    "collapsed": true
   },
   "outputs": [],
   "source": [
    "# New median\n",
    "c1 = np.median(data1, axis=0)\n",
    "c1"
   ]
  },
  {
   "cell_type": "code",
   "execution_count": null,
   "metadata": {
    "collapsed": true
   },
   "outputs": [],
   "source": [
    "# New median\n",
    "c2 = np.median(data2, axis=0)\n",
    "c2"
   ]
  },
  {
   "cell_type": "code",
   "execution_count": null,
   "metadata": {
    "collapsed": true
   },
   "outputs": [],
   "source": [
    "d1 = [distance.euclidean(np.array([a[0],a[1]]),c1) for a in myData]\n",
    "d2 = [distance.euclidean(np.array([a[0],a[1]]),c2) for a in myData]\n",
    "print (np.vstack((d1,d2)))"
   ]
  },
  {
   "cell_type": "code",
   "execution_count": null,
   "metadata": {
    "collapsed": true
   },
   "outputs": [],
   "source": [
    "diff = [a-b for a, b in zip(d1, d2)]"
   ]
  },
  {
   "cell_type": "code",
   "execution_count": null,
   "metadata": {
    "collapsed": true
   },
   "outputs": [],
   "source": [
    "clus = [1 if x >= 0 else 0 for x in diff]\n",
    "print(clus)"
   ]
  },
  {
   "cell_type": "code",
   "execution_count": null,
   "metadata": {
    "collapsed": true
   },
   "outputs": [],
   "source": [
    "myData = np.hstack((myData,np.array(clus).reshape(len(clus),1)))\n",
    "myData"
   ]
  },
  {
   "cell_type": "code",
   "execution_count": null,
   "metadata": {
    "collapsed": true
   },
   "outputs": [],
   "source": [
    "# Ref: https://gist.github.com/jakevdp/91077b0cae40f8f8244a\n",
    "def discrete_cmap(N, base_cmap=None):\n",
    "    \"\"\"Create an N-bin discrete colormap from the specified input map\"\"\"\n",
    "\n",
    "    # Note that if base_cmap is a string or None, you can simply do\n",
    "    #    return plt.cm.get_cmap(base_cmap, N)\n",
    "    # The following works for string, None, or a colormap instance:\n",
    "\n",
    "    base = pp.cm.get_cmap(base_cmap)\n",
    "    color_list = base(np.linspace(0, 1, N))\n",
    "    cmap_name = base.name + str(N)\n",
    "    return base.from_list(cmap_name, color_list, N)"
   ]
  },
  {
   "cell_type": "code",
   "execution_count": null,
   "metadata": {
    "collapsed": true
   },
   "outputs": [],
   "source": [
    "pp.scatter(myData[:,0], myData[:,1], s = 50, c= myData[:,5], cmap=discrete_cmap(2, 'cubehelix'))\n",
    "pp.show()"
   ]
  },
  {
   "cell_type": "code",
   "execution_count": null,
   "metadata": {
    "collapsed": true
   },
   "outputs": [],
   "source": [
    "# -------------------------------------------------------\n",
    "# K-means using sklearn\n",
    "# -------------------------------------------------------"
   ]
  },
  {
   "cell_type": "code",
   "execution_count": 14,
   "metadata": {
    "collapsed": true
   },
   "outputs": [],
   "source": [
    "from sklearn.cluster import KMeans"
   ]
  },
  {
   "cell_type": "code",
   "execution_count": 15,
   "metadata": {
    "collapsed": true
   },
   "outputs": [],
   "source": [
    "kmeans = KMeans(n_clusters=2, random_state=0).fit(myData)"
   ]
  },
  {
   "cell_type": "code",
   "execution_count": 16,
   "metadata": {},
   "outputs": [
    {
     "data": {
      "text/plain": [
       "array([1, 1, 1, 1, 1, 0, 0, 0, 0, 0, 0, 0])"
      ]
     },
     "execution_count": 16,
     "metadata": {},
     "output_type": "execute_result"
    }
   ],
   "source": [
    "kmeans.labels_"
   ]
  },
  {
   "cell_type": "code",
   "execution_count": 17,
   "metadata": {},
   "outputs": [
    {
     "data": {
      "text/plain": [
       "array([[ 11.85714286,   0.        ,   0.71428571],\n",
       "       [  3.        ,   0.        ,   0.        ]])"
      ]
     },
     "execution_count": 17,
     "metadata": {},
     "output_type": "execute_result"
    }
   ],
   "source": [
    "kmeans.cluster_centers_"
   ]
  },
  {
   "cell_type": "code",
   "execution_count": 18,
   "metadata": {},
   "outputs": [
    {
     "data": {
      "text/plain": [
       "Text(0.5,1,'K Mean Classification')"
      ]
     },
     "execution_count": 18,
     "metadata": {},
     "output_type": "execute_result"
    }
   ],
   "source": [
    "# View the results\n",
    "# Set the size of the plot\n",
    "pp.figure(figsize=(14,7))\n",
    " \n",
    "# Create a colormap\n",
    "colormap = np.array(['red', 'yellow'])\n",
    " \n",
    "# Plot the Models Classifications\n",
    "#pp.subplot(1, 1, 1)\n",
    "pp.scatter(myData[:,0], myData[:,1], c=colormap[kmeans.labels_], s=60)\n",
    "pp.title('K Mean Classification')\n"
   ]
  },
  {
   "cell_type": "code",
   "execution_count": 19,
   "metadata": {},
   "outputs": [
    {
     "data": {
      "image/png": "[encoded data removed]",
      "text/plain": [
       "<matplotlib.figure.Figure at 0x21f08081cf8>"
      ]
     },
     "metadata": {},
     "output_type": "display_data"
    }
   ],
   "source": [
    "pp.show()"
   ]
  },
  {
   "cell_type": "code",
   "execution_count": 20,
   "metadata": {},
   "outputs": [
    {
     "data": {
      "text/plain": [
       "3.0"
      ]
     },
     "execution_count": 20,
     "metadata": {},
     "output_type": "execute_result"
    }
   ],
   "source": [
    "# ---------------------------------------------------------\n",
    "# Euclidean distance\n",
    "# ---------------------------------------------------------\n",
    "p = np.array([1,3,8,3,5])\n",
    "q = np.array([1,3,9,1,3])\n",
    "distance.euclidean(p,q)"
   ]
  },
  {
   "cell_type": "code",
   "execution_count": null,
   "metadata": {
    "collapsed": true
   },
   "outputs": [],
   "source": [
    "# Now to hierarchical clustering"
   ]
  },
  {
   "cell_type": "code",
   "execution_count": 21,
   "metadata": {
    "collapsed": true
   },
   "outputs": [],
   "source": [
    "# Data\n",
    "myData2 = np.array([[1,2,1,2,3,4,5],\n",
    "                    [1,1,1,2,3,7,8],\n",
    "                    [1,1,1,2,3,7,6],\n",
    "                    [2,5,1,2,3,7,8],\n",
    "                    [3,1,1,2,3,4,5],\n",
    "                    [2,4,1,2,3,7,5],\n",
    "                    [2,4,1,2,3,4,5]\n",
    "                   ])"
   ]
  },
  {
   "cell_type": "code",
   "execution_count": 22,
   "metadata": {},
   "outputs": [
    {
     "name": "stdout",
     "output_type": "stream",
     "text": [
      "(21,)\n",
      "(7, 7)\n",
      "[[ 0.     4.359  3.317  5.292  2.236  3.742  2.236]\n",
      " [ 4.359  0.     2.     4.123  4.69   4.359  5.292]\n",
      " [ 3.317  2.     0.     4.583  3.742  3.317  4.472]\n",
      " [ 5.292  4.123  4.583  0.     5.916  3.162  4.359]\n",
      " [ 2.236  4.69   3.742  5.916  0.     4.359  3.162]\n",
      " [ 3.742  4.359  3.317  3.162  4.359  0.     3.   ]\n",
      " [ 2.236  5.292  4.472  4.359  3.162  3.     0.   ]]\n"
     ]
    }
   ],
   "source": [
    "from scipy.spatial import distance\n",
    "\n",
    "d = distance.pdist(myData2, metric='euclidean')\n",
    "print(d.shape)\n",
    "\n",
    "D = distance.squareform(d)\n",
    "print (D.shape)\n",
    "\n",
    "print(np.around(D,3))"
   ]
  },
  {
   "cell_type": "code",
   "execution_count": 23,
   "metadata": {
    "collapsed": true
   },
   "outputs": [],
   "source": [
    "# https://docs.scipy.org/doc/scipy/reference/generated/scipy.cluster.hierarchy.dendrogram.html\n",
    "from scipy.cluster import hierarchy"
   ]
  },
  {
   "cell_type": "code",
   "execution_count": 24,
   "metadata": {
    "collapsed": true
   },
   "outputs": [],
   "source": [
    "Z = hierarchy.linkage(myData2, 'single')"
   ]
  },
  {
   "cell_type": "code",
   "execution_count": 25,
   "metadata": {},
   "outputs": [
    {
     "data": {
      "text/plain": [
       "<matplotlib.figure.Figure at 0x21f07f434e0>"
      ]
     },
     "execution_count": 25,
     "metadata": {},
     "output_type": "execute_result"
    }
   ],
   "source": [
    "pp.figure()"
   ]
  },
  {
   "cell_type": "code",
   "execution_count": 26,
   "metadata": {
    "collapsed": true
   },
   "outputs": [],
   "source": [
    "dn = hierarchy.dendrogram(Z)"
   ]
  },
  {
   "cell_type": "code",
   "execution_count": 27,
   "metadata": {},
   "outputs": [
    {
     "data": {
      "image/png": "[encoded data removed]",
      "text/plain": [
       "<matplotlib.figure.Figure at 0x21f07f434e0>"
      ]
     },
     "metadata": {},
     "output_type": "display_data"
    }
   ],
   "source": [
    "pp.show()"
   ]
  },
  {
   "cell_type": "code",
   "execution_count": null,
   "metadata": {
    "collapsed": true
   },
   "outputs": [],
   "source": [
    "# Alternative way"
   ]
  },
  {
   "cell_type": "code",
   "execution_count": null,
   "metadata": {
    "collapsed": true
   },
   "outputs": [],
   "source": [
    "from scipy.cluster.hierarchy import ward, dendrogram\n",
    "\n",
    "linkage_matrix = ward(myData2) #define the linkage_matrix using ward clustering pre-computed distances\n",
    "\n",
    "fig, ax = pp.subplots(figsize=(15, 20)) # set size\n",
    "#ax = dendrogram(linkage_matrix, orientation=\"right\");\n",
    "ax = dendrogram(linkage_matrix);\n",
    "\n",
    "pp.tick_params(\\\n",
    "    axis= 'x',          # changes apply to the x-axis\n",
    "    which='both',      # both major and minor ticks are affected\n",
    "    bottom='off',      # ticks along the bottom edge are off\n",
    "    top='off',         # ticks along the top edge are off\n",
    "    #labelbottom='off'\n",
    "    )\n",
    "\n",
    "pp.show() #show plot with tight layout"
   ]
  },
  {
   "cell_type": "code",
   "execution_count": null,
   "metadata": {
    "collapsed": true
   },
   "outputs": [],
   "source": []
  }
 ],
 "metadata": {
  "anaconda-cloud": {},
  "kernelspec": {
   "display_name": "Python 3",
   "language": "python",
   "name": "python3"
  },
  "language_info": {
   "codemirror_mode": {
    "name": "ipython",
    "version": 3
   },
   "file_extension": ".py",
   "mimetype": "text/x-python",
   "name": "python",
   "nbconvert_exporter": "python",
   "pygments_lexer": "ipython3",
   "version": "3.6.3"
  }
 },
 "nbformat": 4,
 "nbformat_minor": 1
}
