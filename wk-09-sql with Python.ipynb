{
 "cells": [
  {
   "cell_type": "markdown",
   "metadata": {},
   "source": [
    "# Working with MySQL using Python\n",
    "First we need to install a driver to allow Python to talk with MySQL. Since there are many drivers (https://wiki.python.org/moin/MySQL) we will choose one that has been around a long time and is considered stable -- and works with Python 3. Here are the installation instructions."
   ]
  },
  {
   "cell_type": "markdown",
   "metadata": {},
   "source": [
    "sudo apt-get install mysql-server\n",
    "\n",
    "conda install pymysql"
   ]
  },
  {
   "cell_type": "markdown",
   "metadata": {},
   "source": [
    "Example 3 does everything - creates a database, creates tables and populates them. Examples 1 and 2 assumes that you have created the database and tables beforehand. Example 4 shoes how to leverage the fetchall command."
   ]
  },
  {
   "cell_type": "code",
   "execution_count": 1,
   "metadata": {},
   "outputs": [
    {
     "name": "stdout",
     "output_type": "stream",
     "text": [
      "('S1001', 'Smith', 'Tom', 'History', 90)\n",
      "('S1002', 'Chin', 'Ann', 'Math', 36)\n",
      "('S1005', 'Lee', 'Perry', 'History', 3)\n",
      "('S1010', 'Burns', 'Edward', 'Art', 63)\n",
      "('S1013', 'McCarthy', 'Owen', ' Math', 0)\n",
      "('S1015', 'Jones', 'Mary', 'Math', 42)\n",
      "('S1020', 'Rivera', 'Jane', 'CSC', 15)\n"
     ]
    }
   ],
   "source": [
    "# Example 1\n",
    "# How to access an existing table in a database\n",
    "# This assumes that you have the Student database in the classwork database\n",
    "import pymysql as myDB\n",
    "\n",
    "# Establish a connection to the database\n",
    "db = myDB.connect(host='localhost', user='root', passwd='root', db='classwork')\n",
    "\n",
    "# Creeate a cursor. In this case we name it cur\n",
    "# A cursor is a data structure that receives results for further processing\n",
    "cur = db.cursor()\n",
    "\n",
    "# Execute an SQL statement\n",
    "cur.execute('SELECT * FROM Student')\n",
    "\n",
    "# the command fetchall returns the data from the last query or command\n",
    "for row in cur.fetchall():\n",
    "    print (row)"
   ]
  },
  {
   "cell_type": "code",
   "execution_count": 2,
   "metadata": {},
   "outputs": [
    {
     "name": "stdout",
     "output_type": "stream",
     "text": [
      "   stuId  lastName firstName    major  credits\n",
      "0  S1001     Smith       Tom  History       90\n",
      "1  S1002      Chin       Ann     Math       36\n",
      "2  S1005       Lee     Perry  History        3\n",
      "3  S1010     Burns    Edward      Art       63\n",
      "4  S1013  McCarthy      Owen     Math        0\n",
      "5  S1015     Jones      Mary     Math       42\n",
      "6  S1020    Rivera      Jane      CSC       15\n"
     ]
    }
   ],
   "source": [
    "#Example 2\n",
    "# Getting data from an SQL database into a pandas dataframe\n",
    "import pymysql as myDB\n",
    "import pandas.io.sql as pdSQL\n",
    "# import pandas as pd\n",
    "conn = myDB.connect('localhost', 'root', 'root', 'classwork') \n",
    "\n",
    "myDataFrame = pdSQL.read_sql('SELECT * FROM Student', conn) \n",
    "print (myDataFrame)\n",
    "# Now you have access to all the functionality of a pandas dataframe"
   ]
  },
  {
   "cell_type": "code",
   "execution_count": null,
   "metadata": {
    "collapsed": true
   },
   "outputs": [],
   "source": [
    "# Example 3\n",
    "# This will recreate the example that we did in class\n",
    "# That is, it will create four tables and populate them\n",
    "# The variable sql will be used to store the SQL commands that we want\n",
    "# to execute\n",
    "# The function cursor.execute() will execute the desired command\n",
    "import pymysql as myDB\n",
    "\n",
    "conn = myDB.connect('localhost', 'root', 'root') \n",
    "cursor = conn.cursor()\n",
    "\n",
    "sql = ' SHOW DATABASES; '\n",
    "cursor.execute(sql)\n",
    "\n",
    "sql = ' DROP DATABASE IF EXISTS classwork; ' \n",
    "cursor.execute(sql)\n",
    "\n",
    "sql = ' CREATE DATABASE classwork; ' \n",
    "cursor.execute(sql)\n",
    "\n",
    "sql = ' USE classwork; ' \n",
    "cursor.execute(sql)\n",
    "\n",
    "cursor.close()\n",
    "cursor = conn.cursor()\n",
    "\n",
    "sql = '''\n",
    "        CREATE TABLE Student ( stuId CHAR(6),\n",
    "        lastName CHAR(20) NOT NULL,\n",
    "        firstName CHAR(20) NOT NULL, major CHAR(10),\n",
    "        credits SMALLINT DEFAULT 0,\n",
    "        CONSTRAINT Student_stuId_pk PRIMARY KEY (stuId),\n",
    "        CONSTRAINT\n",
    "        Student_credits_cc CHECK ((CREDITS>=0) AND (credits < 150))\n",
    "        );\n",
    "    '''\n",
    "cursor.execute(sql)\n",
    "\n",
    "sql = '''\n",
    "        INSERT INTO Student VALUES (\"S1001\", \"Smith\", \"Tom\", \"History\", 90); \n",
    "        INSERT INTO Student VALUES (\"S1002\", \"Chin\", \"Ann\", \"Math\", 36);\n",
    "        INSERT INTO Student VALUES (\"S1005\", \"Lee\", \"Perry\", \"History\", 3); \n",
    "        INSERT INTO Student VALUES (\"S1010\", \"Burns\", \"Edward\", \"Art\", 63); \n",
    "        INSERT INTO Student VALUES (\"S1013\", \"McCarthy\", \"Owen\", \"Math\", 0); \n",
    "        INSERT INTO Student VALUES (\"S1015\", \"Jones\", \"Mary\", \"Math\", 42); \n",
    "        INSERT INTO Student VALUES (\"S1020\", \"Rivera\", \"Jane\", \"CSC\", 15);\n",
    "    '''\n",
    "cursor.execute(sql)\n",
    "\n",
    "cursor.close()\n",
    "\n",
    "\n",
    "cursor = conn.cursor()\n",
    "\n",
    "sql = '''\n",
    "        CREATE TABLE Faculty ( facId CHAR(6),\n",
    "        name CHAR(20) NOT NULL,\n",
    "        department CHAR(20) NOT NULL, rank CHAR(10),\n",
    "        CONSTRAINT Faculty_facId_pk PRIMARY KEY (facId)\n",
    "        );\n",
    "    '''\n",
    "cursor.execute(sql)\n",
    "\n",
    "sql = '''\n",
    "        INSERT INTO Faculty VALUES (\"F101\", \"Adams\", \"Art\", \"Professor\"); \n",
    "        INSERT INTO Faculty VALUES (\"F105\", \"Tanaka\", \"CSC\", \"Instructor\"); \n",
    "        INSERT INTO Faculty VALUES (\"F110\", \"Byrne\", \"Math\", \"Assistant\"); \n",
    "        INSERT INTO Faculty VALUES (\"F115\", \"Smith\", \"History\", \"Associate\"); \n",
    "        INSERT INTO Faculty VALUES (\"F221\", \"Smith\", \"CSC\", \"Professor\");\n",
    "    '''\n",
    "cursor.execute(sql)\n",
    "\n",
    "cursor.close()\n",
    "\n",
    "cursor = conn.cursor()\n",
    "\n",
    "sql = '''\n",
    "        CREATE TABLE Class (\n",
    "        classNumber CHAR(8), facId CHAR(6) NOT NULL,\n",
    "        schedule CHAR(8), room CHAR(6),\n",
    "        CONSTRAINT Class_classNumber_pk PRIMARY KEY (classNumber),\n",
    "        CONSTRAINT Class_facId_fk FOREIGN KEY (facId)\n",
    "        REFERENCES Faculty (facId) ON DELETE NO ACTION\n",
    "        );\n",
    "    '''\n",
    "cursor.execute(sql)\n",
    "\n",
    "sql = '''\n",
    "        INSERT INTO Class VALUES (\"ART103A\", \"F101\", \"MWF9\", \"H221\"); \n",
    "        INSERT INTO Class VALUES (\"CSC201A\", \"F105\", \"TuThF10\", \"M110\"); \n",
    "        INSERT INTO Class VALUES (\"CSC203A\", \"F105\", \"MThF12\", \"M110\"); \n",
    "        INSERT INTO Class VALUES (\"HST205A\" ,\"F115\", \"MWF11\", \"H221\"); \n",
    "        INSERT INTO Class VALUES (\"MTH101B\", \"F110\", \"MTuTh9\", \"H225\"); \n",
    "        INSERT INTO Class VALUES (\"MTH103C\", \"F110\", \"MWF11\", \"H225\");\n",
    "    '''\n",
    "cursor.execute(sql)\n",
    "\n",
    "cursor.close()\n",
    "cursor = conn.cursor()\n",
    "\n",
    "sql = '''\n",
    "        CREATE TABLE Enroll (\n",
    "        classNumber CHAR(8), stuId CHAR(6),\n",
    "        grade CHAR(2),\n",
    "        CONSTRAINT Enroll_classNumber_stuId_pk PRIMARY KEY (classNumber, stuId),\n",
    "        CONSTRAINT Enroll_classNumber_fk FOREIGN KEY (classNumber)\n",
    "        REFERENCES Class (classNumber) ON DELETE NO ACTION, CONSTRAINT Enroll_stuId_fk\n",
    "        FOREIGN KEY (stuId)\n",
    "        REFERENCES Student (stuId) ON DELETE CASCADE\n",
    "        );\n",
    "    '''\n",
    "cursor.execute(sql)\n",
    "\n",
    "sql = '''\n",
    "        INSERT INTO Enroll VALUES (\"ART103A\", \"S1001\", \"A\"); \n",
    "        INSERT INTO Enroll VALUES (\"HST205A\", \"S1001\", \"C\"); \n",
    "        INSERT INTO Enroll VALUES (\"ART103A\", \"S1002\", \"D\"); \n",
    "        INSERT INTO Enroll VALUES (\"CSC201A\", \"S1002\", \"F\"); \n",
    "        INSERT INTO Enroll VALUES (\"MTH103C\", \"S1002\", \"B\"); \n",
    "        INSERT INTO Enroll VALUES (\"ART103A\", \"S1010\", NULL); \n",
    "        INSERT INTO Enroll VALUES (\"MTH103C\", \"S1010\", NULL); \n",
    "        INSERT INTO Enroll VALUES (\"CSC201A\", \"S1020\", \"B\"); \n",
    "        INSERT INTO Enroll VALUES (\"MTH101B\", \"S1020\", \"A\");\n",
    "    '''\n",
    "cursor.execute(sql)\n",
    "cursor.close()"
   ]
  },
  {
   "cell_type": "code",
   "execution_count": null,
   "metadata": {
    "collapsed": true
   },
   "outputs": [],
   "source": [
    "# Example 4\n",
    "# How to see results of SQL commands\n",
    "import pymysql as myDB\n",
    "conn = myDB.connect('localhost', 'root', 'root', 'classwork') \n",
    "cursor = conn.cursor()\n",
    "\n",
    "sql = ' SHOW DATABASES; '\n",
    "\n",
    "cursor.execute(sql) # but the data that you want is not returned\n",
    "\n",
    "# Option 1: is to return data from last query\n",
    "databases = cursor.fetchall()\n",
    "print (databases) # Now print the databases\n",
    "\n",
    "# Option 2: Iterate over the existing cursor\n",
    "for (database_name,) in cursor:\n",
    "    print (database_name)"
   ]
  },
  {
   "cell_type": "markdown",
   "metadata": {},
   "source": [
    "In example 3 we have used the following pair of commands repeatedly"
   ]
  },
  {
   "cell_type": "code",
   "execution_count": null,
   "metadata": {
    "collapsed": true
   },
   "outputs": [],
   "source": [
    "cursor.close()\n",
    "cursor = conn.cursor()"
   ]
  },
  {
   "cell_type": "markdown",
   "metadata": {},
   "source": [
    "This is because mysql has a problem of processing multiple SQL queries together, It is not a Python problem. If we fail to close and reestablish the connection (which I believe simulates flushing the connection buffer), we get the following error:"
   ]
  },
  {
   "cell_type": "code",
   "execution_count": null,
   "metadata": {
    "collapsed": true
   },
   "outputs": [],
   "source": [
    "Error 2014: Commands out of sync; you can't run this command now"
   ]
  },
  {
   "cell_type": "markdown",
   "metadata": {},
   "source": [
    "NOTE: It is useful to know where the database files are stored in Ubuntu. The databases are stored in\n",
    "/var/lib/mysql"
   ]
  },
  {
   "cell_type": "markdown",
   "metadata": {},
   "source": [
    "Just as an aside, if you want to read a csv file into mysql, you can refer to  http://stackoverflow.com/questions/10154633/load-csv-data-into-mysql-in-python or the somewhat easier approach shown in https://news.ycombinator.com/item?id=8236644,"
   ]
  }
 ],
 "metadata": {
  "anaconda-cloud": {},
  "kernelspec": {
   "display_name": "Python 3",
   "language": "python",
   "name": "python3"
  },
  "language_info": {
   "codemirror_mode": {
    "name": "ipython",
    "version": 3
   },
   "file_extension": ".py",
   "mimetype": "text/x-python",
   "name": "python",
   "nbconvert_exporter": "python",
   "pygments_lexer": "ipython3",
   "version": "3.6.3"
  }
 },
 "nbformat": 4,
 "nbformat_minor": 1
}
