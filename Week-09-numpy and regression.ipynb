{
 "cells": [
  {
   "cell_type": "code",
   "execution_count": 1,
   "metadata": {},
   "outputs": [
    {
     "name": "stdout",
     "output_type": "stream",
     "text": [
      "[0 1 2 3 4 5 6 7 8]\n",
      "[[[1, 2], [3, 4]], [[5, 6], [7, 8]], [[9, 10], [11, 12]]]\n",
      "[[1, 2], [3, 4]]\n",
      "[1, 2]\n",
      "2\n"
     ]
    }
   ],
   "source": [
    "import numpy as np\n",
    "\n",
    "# Slide 8\n",
    "myonedim = np.array(range(0,9))\n",
    "print (myonedim)\n",
    "\n",
    "# This makes an array out of a nested sequence (can be nested tuples, nested lists, or combination of them)\n",
    "a = [ [[1,2],[3,4]],\n",
    "      [[5,6],[7,8]],\n",
    "      [[9,10],[11,12]]\n",
    "     ]\n",
    "print (a)\n",
    "print (a[0])\n",
    "print (a[0][0])\n",
    "print (a[0][0][1])"
   ]
  },
  {
   "cell_type": "code",
   "execution_count": 2,
   "metadata": {},
   "outputs": [
    {
     "name": "stdout",
     "output_type": "stream",
     "text": [
      "[0 1 2 3 4 5 6 7 8]\n"
     ]
    }
   ],
   "source": [
    "import numpy as np\n",
    "\n",
    "myonedim = np.array(range(0,9))\n",
    "print (myonedim)"
   ]
  },
  {
   "cell_type": "code",
   "execution_count": 4,
   "metadata": {},
   "outputs": [
    {
     "name": "stdout",
     "output_type": "stream",
     "text": [
      "[[[ 1  2]\n",
      "  [ 3  4]]\n",
      "\n",
      " [[ 5  6]\n",
      "  [ 7  8]]\n",
      "\n",
      " [[ 9 10]\n",
      "  [11 12]]]\n"
     ]
    },
    {
     "data": {
      "text/plain": [
       "(3L, 2L, 2L)"
      ]
     },
     "execution_count": 4,
     "metadata": {},
     "output_type": "execute_result"
    }
   ],
   "source": [
    "myarr = np.array(a)\n",
    "print(myarr)\n",
    "\n",
    "myarr.shape"
   ]
  },
  {
   "cell_type": "code",
   "execution_count": null,
   "metadata": {
    "collapsed": true
   },
   "outputs": [],
   "source": [
    "# Slide 9\n",
    "# Arange\n",
    "\n",
    "import numpy as np\n",
    "print (np.arange(3))\n",
    "print (np.arange(3.0))\n",
    "print (np.arange(3, dtype=float))\n",
    "print (np.arange(3,10)) # start,stop\n",
    "print (np.arange(3,10,2)) # start,stop,step"
   ]
  },
  {
   "cell_type": "code",
   "execution_count": null,
   "metadata": {
    "collapsed": true
   },
   "outputs": [],
   "source": [
    "# Slide 9\n",
    "# Linspace\n",
    "print (np.linspace(2.0, 3.0, num=5))\n",
    "print (np.linspace(2.0, 3.0, num=5, endpoint=False))\n",
    "print (np.linspace(2.0, 3.0, num=5, retstep=True))\n",
    "\n",
    "# Logspace\n",
    "print (np.logspace(0,4,5))\n",
    "np.set_printoptions(suppress=True)\n",
    "print (np.logspace(0,4,5))"
   ]
  },
  {
   "cell_type": "code",
   "execution_count": null,
   "metadata": {
    "collapsed": true,
    "scrolled": true
   },
   "outputs": [],
   "source": [
    "# Slide 9\n",
    "# Mgrid\n",
    "\n",
    "import numpy as np\n",
    "## 2 rows and 4 columns\n",
    "mygrid = np.mgrid[0:2, 0:4]\n",
    "grid_x, grid_y = np.mgrid[0:2, 0:4]\n",
    "print (mygrid)\n",
    "print (grid_x)\n",
    "print (grid_y)\n",
    "# Change the numbers and see what happens"
   ]
  },
  {
   "cell_type": "code",
   "execution_count": null,
   "metadata": {
    "collapsed": true
   },
   "outputs": [],
   "source": [
    "# Slide 9\n",
    "# Random\n",
    "from numpy import random\n",
    "# uniform random numbers in [0,1]\n",
    "print (random.rand(2,5))\n",
    " \n",
    "# standard normal distributed random numbers\n",
    "print (random.randn(5,2))"
   ]
  },
  {
   "cell_type": "code",
   "execution_count": 5,
   "metadata": {},
   "outputs": [
    {
     "name": "stdout",
     "output_type": "stream",
     "text": [
      "[[1 0 0]\n",
      " [0 2 0]\n",
      " [0 0 3]]\n"
     ]
    }
   ],
   "source": [
    "# Slide 9\n",
    "import numpy as np\n",
    "\n",
    "# a diagonal matrix\n",
    "print (np.diag([1,2,3]))"
   ]
  },
  {
   "cell_type": "code",
   "execution_count": 6,
   "metadata": {},
   "outputs": [
    {
     "name": "stdout",
     "output_type": "stream",
     "text": [
      "[[0 0 1 0 0]\n",
      " [0 0 0 2 0]\n",
      " [0 0 0 0 3]\n",
      " [0 0 0 0 0]\n",
      " [0 0 0 0 0]]\n"
     ]
    }
   ],
   "source": [
    "# Slide 9\n",
    "import numpy as np\n",
    "\n",
    "# diagonal with offset from main diagonal\n",
    "print (np.diag([1,2,3], k=2))"
   ]
  },
  {
   "cell_type": "code",
   "execution_count": 7,
   "metadata": {},
   "outputs": [
    {
     "name": "stdout",
     "output_type": "stream",
     "text": [
      "[[ 0.  0.  0.]\n",
      " [ 0.  0.  0.]\n",
      " [ 0.  0.  0.]]\n"
     ]
    }
   ],
   "source": [
    "# Slide 9\n",
    "import numpy as np\n",
    "\n",
    "# matrix with all zeros\n",
    "print (np.zeros([3,3]))"
   ]
  },
  {
   "cell_type": "code",
   "execution_count": null,
   "metadata": {
    "collapsed": true
   },
   "outputs": [],
   "source": [
    "# Slide 9\n",
    "import numpy as np\n",
    "\n",
    "# matrix with all ones\n",
    "print (np.ones([3,3]))"
   ]
  },
  {
   "cell_type": "code",
   "execution_count": 9,
   "metadata": {},
   "outputs": [
    {
     "name": "stdout",
     "output_type": "stream",
     "text": [
      "[['Name' 'Age' 'Height']\n",
      " ['Dick' '23' '167']\n",
      " ['Tom' '28' '172']\n",
      " ['Harry' '27' '168']]\n",
      "|S6\n"
     ]
    }
   ],
   "source": [
    "# Slide 10\n",
    "\n",
    "# Create a csv file in spreadsheet -- mycsv.csv\n",
    "# Name, Age Height\n",
    "# Tom, 23, 167\n",
    "# Dick, 28, 172\n",
    "# Mary, 27, 168\n",
    "\n",
    "import numpy as np \n",
    "mydata = np.loadtxt('mycsv.csv', delimiter=',', dtype=str)\n",
    "print (mydata)\n",
    "print (mydata.dtype)"
   ]
  },
  {
   "cell_type": "code",
   "execution_count": null,
   "metadata": {
    "collapsed": true
   },
   "outputs": [],
   "source": [
    "# Slide 10\n",
    "# --- Another method\n",
    "# Create a csv file in spreadsheet -- mycsv.csv\n",
    "# Name, Age Height\n",
    "# Tom, 23, 167\n",
    "# Dick, 28, 172\n",
    "# Mary, 27, 168\n",
    "\n",
    "mydata = np.genfromtxt('mycsv.csv', dtype=float, delimiter=',', names=True) \n",
    "print (mydata)"
   ]
  },
  {
   "cell_type": "code",
   "execution_count": 14,
   "metadata": {},
   "outputs": [
    {
     "ename": "IOError",
     "evalue": "myfile.csv not found.",
     "output_type": "error",
     "traceback": [
      "\u001b[1;31m\u001b[0m",
      "\u001b[1;31mIOError\u001b[0mTraceback (most recent call last)",
      "\u001b[1;32m<ipython-input-14-0352540d37b7>\u001b[0m in \u001b[0;36m<module>\u001b[1;34m()\u001b[0m\n\u001b[0;32m      8\u001b[0m \u001b[1;32mimport\u001b[0m \u001b[0mnumpy\u001b[0m \u001b[1;32mas\u001b[0m \u001b[0mnp\u001b[0m\u001b[1;33m\u001b[0m\u001b[0m\n\u001b[0;32m      9\u001b[0m \u001b[1;31m# Simpler version\u001b[0m\u001b[1;33m\u001b[0m\u001b[1;33m\u001b[0m\u001b[0m\n\u001b[1;32m---> 10\u001b[1;33m \u001b[0mmydata\u001b[0m \u001b[1;33m=\u001b[0m \u001b[0mnp\u001b[0m\u001b[1;33m.\u001b[0m\u001b[0mgenfromtxt\u001b[0m\u001b[1;33m(\u001b[0m\u001b[1;34m'myfile.csv'\u001b[0m\u001b[1;33m,\u001b[0m \u001b[0mdelimiter\u001b[0m\u001b[1;33m=\u001b[0m\u001b[1;34m','\u001b[0m\u001b[1;33m)\u001b[0m\u001b[1;33m\u001b[0m\u001b[0m\n\u001b[0m\u001b[0;32m     11\u001b[0m \u001b[1;32mprint\u001b[0m\u001b[1;33m(\u001b[0m\u001b[0mmydata\u001b[0m\u001b[1;33m)\u001b[0m\u001b[1;33m\u001b[0m\u001b[0m\n",
      "\u001b[1;32mC:\\Users\\Justin\\Anaconda2\\lib\\site-packages\\numpy\\lib\\npyio.pyc\u001b[0m in \u001b[0;36mgenfromtxt\u001b[1;34m(fname, dtype, comments, delimiter, skip_header, skip_footer, converters, missing_values, filling_values, usecols, names, excludelist, deletechars, replace_space, autostrip, case_sensitive, defaultfmt, unpack, usemask, loose, invalid_raise, max_rows)\u001b[0m\n\u001b[0;32m   1508\u001b[0m         \u001b[1;32mif\u001b[0m \u001b[0misinstance\u001b[0m\u001b[1;33m(\u001b[0m\u001b[0mfname\u001b[0m\u001b[1;33m,\u001b[0m \u001b[0mbasestring\u001b[0m\u001b[1;33m)\u001b[0m\u001b[1;33m:\u001b[0m\u001b[1;33m\u001b[0m\u001b[0m\n\u001b[0;32m   1509\u001b[0m             \u001b[1;32mif\u001b[0m \u001b[0msys\u001b[0m\u001b[1;33m.\u001b[0m\u001b[0mversion_info\u001b[0m\u001b[1;33m[\u001b[0m\u001b[1;36m0\u001b[0m\u001b[1;33m]\u001b[0m \u001b[1;33m==\u001b[0m \u001b[1;36m2\u001b[0m\u001b[1;33m:\u001b[0m\u001b[1;33m\u001b[0m\u001b[0m\n\u001b[1;32m-> 1510\u001b[1;33m                 \u001b[0mfhd\u001b[0m \u001b[1;33m=\u001b[0m \u001b[0miter\u001b[0m\u001b[1;33m(\u001b[0m\u001b[0mnp\u001b[0m\u001b[1;33m.\u001b[0m\u001b[0mlib\u001b[0m\u001b[1;33m.\u001b[0m\u001b[0m_datasource\u001b[0m\u001b[1;33m.\u001b[0m\u001b[0mopen\u001b[0m\u001b[1;33m(\u001b[0m\u001b[0mfname\u001b[0m\u001b[1;33m,\u001b[0m \u001b[1;34m'rbU'\u001b[0m\u001b[1;33m)\u001b[0m\u001b[1;33m)\u001b[0m\u001b[1;33m\u001b[0m\u001b[0m\n\u001b[0m\u001b[0;32m   1511\u001b[0m             \u001b[1;32melse\u001b[0m\u001b[1;33m:\u001b[0m\u001b[1;33m\u001b[0m\u001b[0m\n\u001b[0;32m   1512\u001b[0m                 \u001b[0mfhd\u001b[0m \u001b[1;33m=\u001b[0m \u001b[0miter\u001b[0m\u001b[1;33m(\u001b[0m\u001b[0mnp\u001b[0m\u001b[1;33m.\u001b[0m\u001b[0mlib\u001b[0m\u001b[1;33m.\u001b[0m\u001b[0m_datasource\u001b[0m\u001b[1;33m.\u001b[0m\u001b[0mopen\u001b[0m\u001b[1;33m(\u001b[0m\u001b[0mfname\u001b[0m\u001b[1;33m,\u001b[0m \u001b[1;34m'rb'\u001b[0m\u001b[1;33m)\u001b[0m\u001b[1;33m)\u001b[0m\u001b[1;33m\u001b[0m\u001b[0m\n",
      "\u001b[1;32mC:\\Users\\Justin\\Anaconda2\\lib\\site-packages\\numpy\\lib\\_datasource.pyc\u001b[0m in \u001b[0;36mopen\u001b[1;34m(path, mode, destpath)\u001b[0m\n\u001b[0;32m    149\u001b[0m \u001b[1;33m\u001b[0m\u001b[0m\n\u001b[0;32m    150\u001b[0m     \u001b[0mds\u001b[0m \u001b[1;33m=\u001b[0m \u001b[0mDataSource\u001b[0m\u001b[1;33m(\u001b[0m\u001b[0mdestpath\u001b[0m\u001b[1;33m)\u001b[0m\u001b[1;33m\u001b[0m\u001b[0m\n\u001b[1;32m--> 151\u001b[1;33m     \u001b[1;32mreturn\u001b[0m \u001b[0mds\u001b[0m\u001b[1;33m.\u001b[0m\u001b[0mopen\u001b[0m\u001b[1;33m(\u001b[0m\u001b[0mpath\u001b[0m\u001b[1;33m,\u001b[0m \u001b[0mmode\u001b[0m\u001b[1;33m)\u001b[0m\u001b[1;33m\u001b[0m\u001b[0m\n\u001b[0m\u001b[0;32m    152\u001b[0m \u001b[1;33m\u001b[0m\u001b[0m\n\u001b[0;32m    153\u001b[0m \u001b[1;33m\u001b[0m\u001b[0m\n",
      "\u001b[1;32mC:\\Users\\Justin\\Anaconda2\\lib\\site-packages\\numpy\\lib\\_datasource.pyc\u001b[0m in \u001b[0;36mopen\u001b[1;34m(self, path, mode)\u001b[0m\n\u001b[0;32m    499\u001b[0m             \u001b[1;32mreturn\u001b[0m \u001b[0m_file_openers\u001b[0m\u001b[1;33m[\u001b[0m\u001b[0mext\u001b[0m\u001b[1;33m]\u001b[0m\u001b[1;33m(\u001b[0m\u001b[0mfound\u001b[0m\u001b[1;33m,\u001b[0m \u001b[0mmode\u001b[0m\u001b[1;33m=\u001b[0m\u001b[0mmode\u001b[0m\u001b[1;33m)\u001b[0m\u001b[1;33m\u001b[0m\u001b[0m\n\u001b[0;32m    500\u001b[0m         \u001b[1;32melse\u001b[0m\u001b[1;33m:\u001b[0m\u001b[1;33m\u001b[0m\u001b[0m\n\u001b[1;32m--> 501\u001b[1;33m             \u001b[1;32mraise\u001b[0m \u001b[0mIOError\u001b[0m\u001b[1;33m(\u001b[0m\u001b[1;34m\"%s not found.\"\u001b[0m \u001b[1;33m%\u001b[0m \u001b[0mpath\u001b[0m\u001b[1;33m)\u001b[0m\u001b[1;33m\u001b[0m\u001b[0m\n\u001b[0m\u001b[0;32m    502\u001b[0m \u001b[1;33m\u001b[0m\u001b[0m\n\u001b[0;32m    503\u001b[0m \u001b[1;33m\u001b[0m\u001b[0m\n",
      "\u001b[1;31mIOError\u001b[0m: myfile.csv not found."
     ]
    }
   ],
   "source": [
    "# Slide 10\n",
    "# Another example\n",
    "# Create a a csv file with ALL numbers and no headers -- myfile.csv\n",
    "12,23,45\n",
    "1,34,54\n",
    "3,4,67\n",
    "\n",
    "import numpy as np\n",
    "# Simpler version\n",
    "mydata = np.genfromtxt('myfile.csv', delimiter=',') \n",
    "print(mydata)"
   ]
  },
  {
   "cell_type": "code",
   "execution_count": 13,
   "metadata": {},
   "outputs": [
    {
     "data": {
      "text/plain": [
       "array([[-0.58650229, -1.73617895, -0.67286595],\n",
       "       [ 0.21504179, -0.21009594,  0.50505711]])"
      ]
     },
     "execution_count": 13,
     "metadata": {},
     "output_type": "execute_result"
    }
   ],
   "source": [
    "# Slide 10\n",
    "# NPY format\n",
    "from numpy import random as nrand\n",
    "a = nrand.randn(2,3)\n",
    "np.save('myarray', a)\n",
    "np.load('myarray.npy')"
   ]
  },
  {
   "cell_type": "code",
   "execution_count": 12,
   "metadata": {},
   "outputs": [
    {
     "name": "stdout",
     "output_type": "stream",
     "text": [
      "[[3 2 1]\n",
      " [7 8 9]]\n",
      "[1 2 3 4 5 6 7 8 9]\n"
     ]
    }
   ],
   "source": [
    "# Slide 10\n",
    "# NPZ format\n",
    "import numpy as np\n",
    "a = np.array([[3, 2, 1], [7, 8, 9]])\n",
    "b = np.array([1, 2, 3, 4, 5, 6, 7, 8, 9])\n",
    "np.savez('myarrays.npz', a=a, b=b)\n",
    "myarraydata = np.load('myarrays.npz')\n",
    "print(myarraydata['a'])\n",
    "print(myarraydata['b'])\n",
    "myarraydata.close()"
   ]
  },
  {
   "cell_type": "code",
   "execution_count": 11,
   "metadata": {},
   "outputs": [
    {
     "name": "stdout",
     "output_type": "stream",
     "text": [
      "[[0 1]\n",
      " [4 5]]\n"
     ]
    }
   ],
   "source": [
    "# Slide 16\n",
    "a = np.reshape(np.arange(16),(4,4))\n",
    "print (a[:2,:2])\n",
    "#print (a[1:3,1:3])\n",
    "#print (a[2:,2:])"
   ]
  },
  {
   "cell_type": "code",
   "execution_count": 15,
   "metadata": {},
   "outputs": [
    {
     "ename": "AttributeError",
     "evalue": "'module' object has no attribute 'arrange'",
     "output_type": "error",
     "traceback": [
      "\u001b[1;31m\u001b[0m",
      "\u001b[1;31mAttributeError\u001b[0mTraceback (most recent call last)",
      "\u001b[1;32m<ipython-input-15-e8cb5131d0b5>\u001b[0m in \u001b[0;36m<module>\u001b[1;34m()\u001b[0m\n\u001b[1;32m----> 1\u001b[1;33m \u001b[0mz\u001b[0m \u001b[1;33m=\u001b[0m \u001b[0mnp\u001b[0m\u001b[1;33m.\u001b[0m\u001b[0marrange\u001b[0m\u001b[1;33m(\u001b[0m\u001b[1;36m16\u001b[0m\u001b[1;33m)\u001b[0m\u001b[1;33m\u001b[0m\u001b[0m\n\u001b[0m\u001b[0;32m      2\u001b[0m \u001b[1;32mprint\u001b[0m\u001b[1;33m(\u001b[0m\u001b[0mz\u001b[0m\u001b[1;33m)\u001b[0m\u001b[1;33m\u001b[0m\u001b[0m\n",
      "\u001b[1;31mAttributeError\u001b[0m: 'module' object has no attribute 'arrange'"
     ]
    }
   ],
   "source": [
    "z = np.arrange(16)\n",
    "print(z)"
   ]
  },
  {
   "cell_type": "code",
   "execution_count": 17,
   "metadata": {},
   "outputs": [
    {
     "ename": "NameError",
     "evalue": "name 'z' is not defined",
     "output_type": "error",
     "traceback": [
      "\u001b[1;31m\u001b[0m",
      "\u001b[1;31mNameError\u001b[0mTraceback (most recent call last)",
      "\u001b[1;32m<ipython-input-17-000c43466646>\u001b[0m in \u001b[0;36m<module>\u001b[1;34m()\u001b[0m\n\u001b[1;32m----> 1\u001b[1;33m \u001b[0mnp\u001b[0m\u001b[1;33m.\u001b[0m\u001b[0mreshape\u001b[0m\u001b[1;33m(\u001b[0m\u001b[0mz\u001b[0m\u001b[1;33m,\u001b[0m\u001b[1;33m(\u001b[0m\u001b[1;36m2\u001b[0m\u001b[1;33m,\u001b[0m\u001b[1;36m8\u001b[0m\u001b[1;33m)\u001b[0m\u001b[1;33m)\u001b[0m\u001b[1;33m\u001b[0m\u001b[0m\n\u001b[0m",
      "\u001b[1;31mNameError\u001b[0m: name 'z' is not defined"
     ]
    }
   ],
   "source": [
    "np.reshape(z,(2,8))"
   ]
  },
  {
   "cell_type": "code",
   "execution_count": 18,
   "metadata": {},
   "outputs": [
    {
     "data": {
      "text/plain": [
       "array([[ 0,  1,  2],\n",
       "       [ 3,  4,  5],\n",
       "       [ 6,  7,  8],\n",
       "       [ 9, 10, 11]])"
      ]
     },
     "execution_count": 18,
     "metadata": {},
     "output_type": "execute_result"
    }
   ],
   "source": [
    "np.reshape(np.arange(12),(4,3))"
   ]
  },
  {
   "cell_type": "code",
   "execution_count": 23,
   "metadata": {},
   "outputs": [
    {
     "name": "stdout",
     "output_type": "stream",
     "text": [
      "[[ 0  1  2]\n",
      " [ 3  4  5]\n",
      " [ 6  7  8]\n",
      " [ 9 10 11]]\n",
      "3\n",
      "12\n",
      "21\n",
      "30\n",
      "0\n",
      "[0 1 2]\n",
      "[3 5 7]\n"
     ]
    }
   ],
   "source": [
    "# Slide 17\n",
    "import numpy as np\n",
    "a = np.reshape(np.arange(12),(4,3))\n",
    "print(a)\n",
    "# for row sums\n",
    "for r in range(a.shape[0]):\n",
    "    print (sum(a[r,:]))\n",
    "# for column sums\n",
    "for r in range(a.shape[1]):\n",
    "    print (sum(a[:,r]))"
   ]
  },
  {
   "cell_type": "code",
   "execution_count": null,
   "metadata": {
    "collapsed": true
   },
   "outputs": [],
   "source": [
    "# Slide 19\n",
    "import numpy as np\n",
    "y = np.zeros((2, 3, 4))\n",
    "print(y)\n",
    "y.shape"
   ]
  },
  {
   "cell_type": "code",
   "execution_count": 21,
   "metadata": {},
   "outputs": [
    {
     "ename": "TypeError",
     "evalue": "'tuple' object is not callable",
     "output_type": "error",
     "traceback": [
      "\u001b[1;31m\u001b[0m",
      "\u001b[1;31mTypeError\u001b[0mTraceback (most recent call last)",
      "\u001b[1;32m<ipython-input-21-ea5bb70e7995>\u001b[0m in \u001b[0;36m<module>\u001b[1;34m()\u001b[0m\n\u001b[1;32m----> 1\u001b[1;33m \u001b[0ma\u001b[0m\u001b[1;33m.\u001b[0m\u001b[0mshape\u001b[0m\u001b[1;33m(\u001b[0m\u001b[1;36m0\u001b[0m\u001b[1;33m)\u001b[0m\u001b[1;33m\u001b[0m\u001b[0m\n\u001b[0m",
      "\u001b[1;31mTypeError\u001b[0m: 'tuple' object is not callable"
     ]
    }
   ],
   "source": [
    "a.shape(0)"
   ]
  },
  {
   "cell_type": "code",
   "execution_count": 24,
   "metadata": {},
   "outputs": [
    {
     "name": "stdout",
     "output_type": "stream",
     "text": [
      "[[1 2]\n",
      " [3 4]\n",
      " [5 6]]\n",
      "[[1 3 5]\n",
      " [2 4 6]]\n"
     ]
    }
   ],
   "source": [
    "# Slide 19\n",
    "x = np.array([[1, 2],\n",
    "              [3, 4],\n",
    "              [5, 6]\n",
    "             ]) \n",
    "print (x)\n",
    "print (x.T)"
   ]
  },
  {
   "cell_type": "code",
   "execution_count": null,
   "metadata": {
    "collapsed": true
   },
   "outputs": [],
   "source": [
    "# Slide 20\n",
    "import numpy as np\n",
    "a = np.array(range(9))\n",
    "b = a.reshape(3,3)\n",
    "print (b)\n",
    "print(b.diagonal())\n",
    "print(b.diagonal(offset=1))\n",
    "print(b.diagonal(offset=-1))"
   ]
  },
  {
   "cell_type": "code",
   "execution_count": null,
   "metadata": {
    "collapsed": true
   },
   "outputs": [],
   "source": [
    "# Slide 22\n",
    "# Dot product is like matrix multiplication\n",
    "a = [[1, 0], [0, 1]]\n",
    "b = [[4, 1], [2, 2]]\n",
    "print (np.dot(a, b))\n",
    "\n",
    "# Ref http://cs.brown.edu/courses/cs053/current/slides/The_Matrix-6.pdf\n",
    "\n",
    "# Inner product with vectors\n",
    "a = np.array([1,2,3])\n",
    "b = np.array([0,1,0])\n",
    "print (np.inner(a, b))\n",
    "\n",
    "# Inner product with arrays\n",
    "a = np.arange(6).reshape((2,3))\n",
    "b = np.arange(3)\n",
    "print (np.inner(a, b))\n",
    "\n",
    "# Outer product\n",
    "a = [1, 2]\n",
    "b = [1, 2, 3]\n",
    "print (np.outer(a, b))"
   ]
  },
  {
   "cell_type": "code",
   "execution_count": null,
   "metadata": {
    "collapsed": true
   },
   "outputs": [],
   "source": [
    "# Slide 25\n",
    "import numpy as np\n",
    "from scipy import linalg\n",
    "A = np.array([[1,2],[3,4]])\n",
    "print(A)\n",
    "print (linalg.inv(A))\n",
    "print (A.dot(linalg.inv(A))) #double check"
   ]
  },
  {
   "cell_type": "code",
   "execution_count": null,
   "metadata": {},
   "outputs": [],
   "source": [
    "# Slide 30\n",
    "import numpy as np\n",
    "from numpy.linalg import inv\n",
    "A = np.matrix([[1,2,3],[0,2,4],[0,0,3]])\n",
    "Ainv = inv(A)\n",
    "print(A)\n",
    "b = np.matrix([[2],[1],[4]])\n",
    "print (b)\n",
    "x = Ainv*b\n",
    "print (x)"
   ]
  },
  {
   "cell_type": "code",
   "execution_count": 25,
   "metadata": {
    "scrolled": true
   },
   "outputs": [
    {
     "name": "stdout",
     "output_type": "stream",
     "text": [
      "[[1 2 3]\n",
      " [0 2 4]\n",
      " [0 0 3]]\n",
      "[[2]\n",
      " [1]\n",
      " [4]]\n",
      "[[ 2.33333333]\n",
      " [-2.16666667]\n",
      " [ 1.33333333]]\n"
     ]
    }
   ],
   "source": [
    "# Slide 31\n",
    "import numpy as np\n",
    "A = np.matrix([[1,2,3],[0,2,4],[0,0,3]])\n",
    "print (A)\n",
    "b = np.matrix([[2],[1],[4]])\n",
    "print (b)\n",
    "x = A.I*b\n",
    "print (x)"
   ]
  },
  {
   "cell_type": "code",
   "execution_count": 26,
   "metadata": {},
   "outputs": [
    {
     "data": {
      "text/plain": [
       "array([ 0.32673267,  1.42574257])"
      ]
     },
     "execution_count": 26,
     "metadata": {},
     "output_type": "execute_result"
    }
   ],
   "source": [
    "# Slide 36\n",
    "# Using arrays\n",
    "import numpy as np\n",
    "xi = [3,2,8,5,2,6,3,7,5,3]\n",
    "y=[6,3,11,6,3,9,4,12,7,5]\n",
    "ones = [1]*len(xi)\n",
    "X = np.concatenate(([ones],[xi]),axis=0).transpose()\n",
    "# Alternatively we can use the zip function\n",
    "# X = np.array(list(zip(ones, xi)))\n",
    "XTX = np.dot(X.T,X)\n",
    "XTXinv = np.linalg.inv(XTX)\n",
    "XTy = np.dot(X.T,y)\n",
    "b = np.dot(XTXinv, XTy)\n",
    "b"
   ]
  },
  {
   "cell_type": "code",
   "execution_count": null,
   "metadata": {
    "collapsed": true
   },
   "outputs": [],
   "source": [
    "# Slide 36\n",
    "# Using matrices\n",
    "import numpy as np\n",
    "xi = [3,2,8,5,2,6,3,7,5,3]\n",
    "y = [6,3,11,6,3,9,4,12,7,5]\n",
    "ones = [1]*len(xi)\n",
    "X = np.concatenate(([ones],[xi]),axis=0).transpose()\n",
    "# Alternatively we can use the zip function\n",
    "# X = np.array(list(zip(ones, xi)))\n",
    "X = np.matrix(X)\n",
    "y = np.reshape(y,(10,1))\n",
    "b = (X.T*X).I*X.T*y\n",
    "b"
   ]
  }
 ],
 "metadata": {
  "anaconda-cloud": {},
  "kernelspec": {
   "display_name": "Python 2",
   "language": "python",
   "name": "python2"
  },
  "language_info": {
   "codemirror_mode": {
    "name": "ipython",
    "version": 2
   },
   "file_extension": ".py",
   "mimetype": "text/x-python",
   "name": "python",
   "nbconvert_exporter": "python",
   "pygments_lexer": "ipython2",
   "version": "2.7.13"
  }
 },
 "nbformat": 4,
 "nbformat_minor": 1
}
