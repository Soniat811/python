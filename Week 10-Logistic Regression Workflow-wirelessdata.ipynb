{
 "cells": [
  {
   "cell_type": "code",
   "execution_count": 19,
   "metadata": {
    "collapsed": true
   },
   "outputs": [],
   "source": [
    "# Read in the data\n",
    "import pandas as pd\n",
    "myDF = pd.read_csv('wirelessdata.csv')"
   ]
  },
  {
   "cell_type": "code",
   "execution_count": 20,
   "metadata": {},
   "outputs": [
    {
     "data": {
      "text/html": [
       "<div>\n",
       "<style>\n",
       "    .dataframe thead tr:only-child th {\n",
       "        text-align: right;\n",
       "    }\n",
       "\n",
       "    .dataframe thead th {\n",
       "        text-align: left;\n",
       "    }\n",
       "\n",
       "    .dataframe tbody tr th {\n",
       "        vertical-align: top;\n",
       "    }\n",
       "</style>\n",
       "<table border=\"1\" class=\"dataframe\">\n",
       "  <thead>\n",
       "    <tr style=\"text-align: right;\">\n",
       "      <th></th>\n",
       "      <th>TIME</th>\n",
       "      <th>OWNED</th>\n",
       "      <th>SEX</th>\n",
       "      <th>EDLVL</th>\n",
       "      <th>AGE</th>\n",
       "      <th>Playfulness</th>\n",
       "      <th>ValueUtility</th>\n",
       "      <th>FeelDeviceDependence</th>\n",
       "      <th>ATUseSophistication</th>\n",
       "      <th>FeelTimeManagingDevice</th>\n",
       "      <th>UseSelfEfficacy</th>\n",
       "      <th>NonPlayfulness</th>\n",
       "      <th>ValueHedonistic</th>\n",
       "      <th>VU</th>\n",
       "      <th>VH</th>\n",
       "    </tr>\n",
       "  </thead>\n",
       "  <tbody>\n",
       "    <tr>\n",
       "      <th>0</th>\n",
       "      <td>30</td>\n",
       "      <td>48.0</td>\n",
       "      <td>1</td>\n",
       "      <td>6</td>\n",
       "      <td>29</td>\n",
       "      <td>0.435742</td>\n",
       "      <td>0.598702</td>\n",
       "      <td>0.014705</td>\n",
       "      <td>0.993670</td>\n",
       "      <td>0.538248</td>\n",
       "      <td>-0.366301</td>\n",
       "      <td>-0.637705</td>\n",
       "      <td>-0.360985</td>\n",
       "      <td>1.0</td>\n",
       "      <td>0.0</td>\n",
       "    </tr>\n",
       "    <tr>\n",
       "      <th>1</th>\n",
       "      <td>180</td>\n",
       "      <td>96.0</td>\n",
       "      <td>2</td>\n",
       "      <td>6</td>\n",
       "      <td>45</td>\n",
       "      <td>0.478775</td>\n",
       "      <td>-0.978223</td>\n",
       "      <td>-0.227848</td>\n",
       "      <td>-0.498776</td>\n",
       "      <td>-1.009463</td>\n",
       "      <td>-0.316191</td>\n",
       "      <td>1.196280</td>\n",
       "      <td>-0.436055</td>\n",
       "      <td>0.0</td>\n",
       "      <td>0.0</td>\n",
       "    </tr>\n",
       "    <tr>\n",
       "      <th>2</th>\n",
       "      <td>120</td>\n",
       "      <td>120.0</td>\n",
       "      <td>1</td>\n",
       "      <td>5</td>\n",
       "      <td>41</td>\n",
       "      <td>-0.666582</td>\n",
       "      <td>0.294652</td>\n",
       "      <td>-0.354879</td>\n",
       "      <td>1.403432</td>\n",
       "      <td>0.427859</td>\n",
       "      <td>-0.069369</td>\n",
       "      <td>1.285157</td>\n",
       "      <td>-0.094290</td>\n",
       "      <td>1.0</td>\n",
       "      <td>NaN</td>\n",
       "    </tr>\n",
       "    <tr>\n",
       "      <th>3</th>\n",
       "      <td>60</td>\n",
       "      <td>60.0</td>\n",
       "      <td>2</td>\n",
       "      <td>6</td>\n",
       "      <td>29</td>\n",
       "      <td>0.755024</td>\n",
       "      <td>-0.948532</td>\n",
       "      <td>-0.108448</td>\n",
       "      <td>-0.111465</td>\n",
       "      <td>1.047733</td>\n",
       "      <td>-0.428759</td>\n",
       "      <td>0.849693</td>\n",
       "      <td>-0.561000</td>\n",
       "      <td>0.0</td>\n",
       "      <td>0.0</td>\n",
       "    </tr>\n",
       "    <tr>\n",
       "      <th>4</th>\n",
       "      <td>90</td>\n",
       "      <td>60.0</td>\n",
       "      <td>2</td>\n",
       "      <td>5</td>\n",
       "      <td>30</td>\n",
       "      <td>-0.382839</td>\n",
       "      <td>0.923585</td>\n",
       "      <td>-1.053071</td>\n",
       "      <td>-0.865111</td>\n",
       "      <td>0.773162</td>\n",
       "      <td>-0.876061</td>\n",
       "      <td>0.039688</td>\n",
       "      <td>0.399977</td>\n",
       "      <td>1.0</td>\n",
       "      <td>1.0</td>\n",
       "    </tr>\n",
       "  </tbody>\n",
       "</table>\n",
       "</div>"
      ],
      "text/plain": [
       "   TIME  OWNED  SEX  EDLVL  AGE  Playfulness  ValueUtility  \\\n",
       "0    30   48.0    1      6   29     0.435742      0.598702   \n",
       "1   180   96.0    2      6   45     0.478775     -0.978223   \n",
       "2   120  120.0    1      5   41    -0.666582      0.294652   \n",
       "3    60   60.0    2      6   29     0.755024     -0.948532   \n",
       "4    90   60.0    2      5   30    -0.382839      0.923585   \n",
       "\n",
       "   FeelDeviceDependence  ATUseSophistication  FeelTimeManagingDevice  \\\n",
       "0              0.014705             0.993670                0.538248   \n",
       "1             -0.227848            -0.498776               -1.009463   \n",
       "2             -0.354879             1.403432                0.427859   \n",
       "3             -0.108448            -0.111465                1.047733   \n",
       "4             -1.053071            -0.865111                0.773162   \n",
       "\n",
       "   UseSelfEfficacy  NonPlayfulness  ValueHedonistic   VU   VH  \n",
       "0        -0.366301       -0.637705        -0.360985  1.0  0.0  \n",
       "1        -0.316191        1.196280        -0.436055  0.0  0.0  \n",
       "2        -0.069369        1.285157        -0.094290  1.0  NaN  \n",
       "3        -0.428759        0.849693        -0.561000  0.0  0.0  \n",
       "4        -0.876061        0.039688         0.399977  1.0  1.0  "
      ]
     },
     "execution_count": 20,
     "metadata": {},
     "output_type": "execute_result"
    }
   ],
   "source": [
    "# Show the data\n",
    "myDF.head()\n",
    "\n",
    "#predicting VU (phone is important for work) and VH (phone is important for entertainment)"
   ]
  },
  {
   "cell_type": "code",
   "execution_count": 21,
   "metadata": {},
   "outputs": [
    {
     "data": {
      "text/plain": [
       "631"
      ]
     },
     "execution_count": 21,
     "metadata": {},
     "output_type": "execute_result"
    }
   ],
   "source": [
    "# Check the number of rows\n",
    "len(myDF)"
   ]
  },
  {
   "cell_type": "code",
   "execution_count": 22,
   "metadata": {
    "collapsed": true
   },
   "outputs": [],
   "source": [
    "# If needed, get rid of rows with null / missing values - not necessary\n",
    "#myDF = myDF[pd.notnull(myDF['VU'])]\n",
    "#len(myDF)"
   ]
  },
  {
   "cell_type": "code",
   "execution_count": 23,
   "metadata": {},
   "outputs": [
    {
     "data": {
      "text/html": [
       "<div>\n",
       "<style>\n",
       "    .dataframe thead tr:only-child th {\n",
       "        text-align: right;\n",
       "    }\n",
       "\n",
       "    .dataframe thead th {\n",
       "        text-align: left;\n",
       "    }\n",
       "\n",
       "    .dataframe tbody tr th {\n",
       "        vertical-align: top;\n",
       "    }\n",
       "</style>\n",
       "<table border=\"1\" class=\"dataframe\">\n",
       "  <thead>\n",
       "    <tr style=\"text-align: right;\">\n",
       "      <th></th>\n",
       "      <th>TIME</th>\n",
       "      <th>OWNED</th>\n",
       "      <th>SEX</th>\n",
       "      <th>EDLVL</th>\n",
       "      <th>AGE</th>\n",
       "      <th>Playfulness</th>\n",
       "      <th>NonPlayfulness</th>\n",
       "      <th>VU</th>\n",
       "      <th>VH</th>\n",
       "    </tr>\n",
       "  </thead>\n",
       "  <tbody>\n",
       "    <tr>\n",
       "      <th>0</th>\n",
       "      <td>30</td>\n",
       "      <td>48.0</td>\n",
       "      <td>1</td>\n",
       "      <td>6</td>\n",
       "      <td>29</td>\n",
       "      <td>0.435742</td>\n",
       "      <td>-0.637705</td>\n",
       "      <td>1.0</td>\n",
       "      <td>0.0</td>\n",
       "    </tr>\n",
       "    <tr>\n",
       "      <th>1</th>\n",
       "      <td>180</td>\n",
       "      <td>96.0</td>\n",
       "      <td>2</td>\n",
       "      <td>6</td>\n",
       "      <td>45</td>\n",
       "      <td>0.478775</td>\n",
       "      <td>1.196280</td>\n",
       "      <td>0.0</td>\n",
       "      <td>0.0</td>\n",
       "    </tr>\n",
       "    <tr>\n",
       "      <th>2</th>\n",
       "      <td>120</td>\n",
       "      <td>120.0</td>\n",
       "      <td>1</td>\n",
       "      <td>5</td>\n",
       "      <td>41</td>\n",
       "      <td>-0.666582</td>\n",
       "      <td>1.285157</td>\n",
       "      <td>1.0</td>\n",
       "      <td>NaN</td>\n",
       "    </tr>\n",
       "    <tr>\n",
       "      <th>3</th>\n",
       "      <td>60</td>\n",
       "      <td>60.0</td>\n",
       "      <td>2</td>\n",
       "      <td>6</td>\n",
       "      <td>29</td>\n",
       "      <td>0.755024</td>\n",
       "      <td>0.849693</td>\n",
       "      <td>0.0</td>\n",
       "      <td>0.0</td>\n",
       "    </tr>\n",
       "    <tr>\n",
       "      <th>4</th>\n",
       "      <td>90</td>\n",
       "      <td>60.0</td>\n",
       "      <td>2</td>\n",
       "      <td>5</td>\n",
       "      <td>30</td>\n",
       "      <td>-0.382839</td>\n",
       "      <td>0.039688</td>\n",
       "      <td>1.0</td>\n",
       "      <td>1.0</td>\n",
       "    </tr>\n",
       "  </tbody>\n",
       "</table>\n",
       "</div>"
      ],
      "text/plain": [
       "   TIME  OWNED  SEX  EDLVL  AGE  Playfulness  NonPlayfulness   VU   VH\n",
       "0    30   48.0    1      6   29     0.435742       -0.637705  1.0  0.0\n",
       "1   180   96.0    2      6   45     0.478775        1.196280  0.0  0.0\n",
       "2   120  120.0    1      5   41    -0.666582        1.285157  1.0  NaN\n",
       "3    60   60.0    2      6   29     0.755024        0.849693  0.0  0.0\n",
       "4    90   60.0    2      5   30    -0.382839        0.039688  1.0  1.0"
      ]
     },
     "execution_count": 23,
     "metadata": {},
     "output_type": "execute_result"
    }
   ],
   "source": [
    "myDF = myDF.drop(['ValueUtility','ValueHedonistic', 'FeelDeviceDependence','ATUseSophistication','FeelTimeManagingDevice','UseSelfEfficacy'],axis=1)\n",
    "myDF.head()"
   ]
  },
  {
   "cell_type": "code",
   "execution_count": 24,
   "metadata": {
    "collapsed": true
   },
   "outputs": [],
   "source": [
    "from patsy import dmatrices\n",
    "from sklearn.linear_model import LogisticRegression\n",
    "import numpy as np"
   ]
  },
  {
   "cell_type": "code",
   "execution_count": 25,
   "metadata": {
    "collapsed": true
   },
   "outputs": [],
   "source": [
    "# Create matrices\n",
    "y, X = dmatrices('VH ~ TIME + OWNED + SEX + AGE + \\\n",
    "                       Playfulness + NonPlayfulness', \n",
    "                       myDF,return_type= 'dataframe')\n",
    "\n",
    "y= np.ravel(y) # if you don't do this you will get a warning in the next cell"
   ]
  },
  {
   "cell_type": "code",
   "execution_count": 26,
   "metadata": {},
   "outputs": [
    {
     "data": {
      "text/plain": [
       "0.66597938144329893"
      ]
     },
     "execution_count": 26,
     "metadata": {},
     "output_type": "execute_result"
    }
   ],
   "source": [
    "# sklearn output\n",
    "model = LogisticRegression()\n",
    "mdl = model.fit(X,y)\n",
    "model.score(X,y)                # The \"score\" is stated in terms of \"accurarcy\""
   ]
  },
  {
   "cell_type": "code",
   "execution_count": 27,
   "metadata": {
    "scrolled": true
   },
   "outputs": [
    {
     "name": "stdout",
     "output_type": "stream",
     "text": [
      "Optimization terminated successfully.\n",
      "         Current function value: 0.619339\n",
      "         Iterations 5\n"
     ]
    },
    {
     "data": {
      "text/plain": [
       "Intercept        -3.345278\n",
       "TIME             -0.001130\n",
       "OWNED            -0.002455\n",
       "SEX               0.795035\n",
       "AGE               0.062777\n",
       "Playfulness       0.145613\n",
       "NonPlayfulness    0.040784\n",
       "dtype: float64"
      ]
     },
     "execution_count": 27,
     "metadata": {},
     "output_type": "execute_result"
    }
   ],
   "source": [
    "import statsmodels.discrete.discrete_model as sm\n",
    "logit = sm.Logit(y,X)\n",
    "logit.fit().params"
   ]
  },
  {
   "cell_type": "markdown",
   "metadata": {},
   "source": [
    "Note that sex = 1,2--- 1 = female and 2 = male\n",
    "Increases in playful use and noPlayful use - both result in a corresponding increase in the likelihood of finding fun-related value in the smart phone. Time used and time owned result in a decrease in the likelihood of finding fun-related value in the smart phone."
   ]
  },
  {
   "cell_type": "code",
   "execution_count": 28,
   "metadata": {},
   "outputs": [
    {
     "data": {
      "text/plain": [
       "0.41855670103092785"
      ]
     },
     "execution_count": 28,
     "metadata": {},
     "output_type": "execute_result"
    }
   ],
   "source": [
    "# What prcentage see fun-related value in their smart phones\n",
    "#provides the actual value for binary values (0 & 1)\n",
    "y.mean()"
   ]
  },
  {
   "cell_type": "markdown",
   "metadata": {},
   "source": [
    "It seems approx 42% of smart phone users see fun-related value in their phones. This implies that 58% do not see fun-related value in their cell phones. In other words we could have obtained 52% accuracy by always predicting 0 (or 'no' for users seeing fun-related value in their smart phones.)"
   ]
  },
  {
   "cell_type": "code",
   "execution_count": 29,
   "metadata": {
    "collapsed": true
   },
   "outputs": [],
   "source": [
    "import numpy as np\n",
    "np.random.seed(0)"
   ]
  },
  {
   "cell_type": "code",
   "execution_count": 31,
   "metadata": {},
   "outputs": [
    {
     "name": "stdout",
     "output_type": "stream",
     "text": [
      "339\n",
      "146\n"
     ]
    }
   ],
   "source": [
    "from sklearn.model_selection import train_test_split\n",
    "X_train, X_test, y_train, y_test = train_test_split(X, y, test_size=0.3, random_state=0)\n",
    "print(len(X_train))\n",
    "print(len(X_test))"
   ]
  },
  {
   "cell_type": "code",
   "execution_count": 32,
   "metadata": {},
   "outputs": [
    {
     "data": {
      "text/plain": [
       "LogisticRegression(C=1.0, class_weight=None, dual=False, fit_intercept=True,\n",
       "          intercept_scaling=1, max_iter=100, multi_class='ovr', n_jobs=1,\n",
       "          penalty='l2', random_state=None, solver='liblinear', tol=0.0001,\n",
       "          verbose=0, warm_start=False)"
      ]
     },
     "execution_count": 32,
     "metadata": {},
     "output_type": "execute_result"
    }
   ],
   "source": [
    "model2 = LogisticRegression()\n",
    "model2.fit(X_train, y_train)"
   ]
  },
  {
   "cell_type": "markdown",
   "metadata": {},
   "source": [
    "C = Inverse of regularization strength; smaller values specify stronger regularization\n",
    "class_weight: wights associated with classes in the form {class_label: weight}. If not given, all classes are supposed to have weight one\n",
    "dual : Dual or primal formulation\n",
    "fit_intercept : Specifies if a constant (a.k.a. bias or intercept) should be added to the decision function.\n",
    "intercept_scaling: In case of imbalanced data (e.g. where the positive examples in the data are very rare) one can take a sample where the proportion of positives is higher. Training a logistic regression on this sample results in higher final predictions. The intercept scaling allows to convert the probabilities so that these reflect the initial data before sampling.\n",
    "max_iter: Maximum number of iterations taken for the solvers to converge.\n",
    "multi_class : Multiclass option can be either ‘ovr’ or ‘multinomial’. If the option chosen is ‘ovr’, then a binary problem is fit for each label. \n",
    "n_jobs : Number of CPU cores used when parallelizing over classes if multi_class=’ovr’.\n",
    "penalty : Used to specify the norm used in the penalization. L1-norm loss function is also known as least absolute deviations (LAD), least absolute errors (LAE). L2-norm loss function is also known as least squares error (LSE).\n",
    "random_state : The seed of the pseudo random number generator to use when shuffling the data\n",
    "solver : choice of solver from ‘newton-cg’, ‘lbfgs’, ‘liblinear’, ‘sag’, ‘saga’\n",
    "tol : Tolerance for stopping criteria.\n",
    "verbose : it is generally an option for producing detailed logging information\n",
    "warm_start : When set to True, reuse the solution of the previous call to fit as initialization, otherwise, just erase the previous solution. "
   ]
  },
  {
   "cell_type": "code",
   "execution_count": 33,
   "metadata": {},
   "outputs": [
    {
     "name": "stdout",
     "output_type": "stream",
     "text": [
      "[ 0.  0.  0.  0.  0.  0.  0.  0.  0.  0.  0.  0.  1.  0.  1.  0.  1.  0.\n",
      "  0.  0.  0.  1.  0.  0.  0.  0.  0.  0.  0.  0.  1.  0.  0.  0.  0.  0.\n",
      "  0.  1.  1.  0.  0.  1.  1.  1.  0.  1.  1.  0.  0.  0.  1.  1.  0.  1.\n",
      "  0.  1.  0.  0.  0.  0.  0.  0.  0.  0.  1.  0.  1.  1.  1.  1.  1.  0.\n",
      "  0.  1.  0.  1.  1.  0.  0.  1.  0.  0.  0.  0.  0.  0.  0.  0.  1.  0.\n",
      "  1.  1.  1.  0.  0.  0.  0.  0.  1.  0.  0.  0.  0.  1.  0.  0.  0.  0.\n",
      "  0.  1.  1.  1.  0.  0.  0.  0.  1.  1.  0.  1.  1.  0.  1.  1.  0.  0.\n",
      "  0.  1.  0.  0.  0.  0.  0.  0.  0.  1.  0.  1.  0.  0.  0.  0.  0.  0.\n",
      "  0.  1.]\n"
     ]
    }
   ],
   "source": [
    "predicted = model2.predict(X_test)\n",
    "print (predicted)"
   ]
  },
  {
   "cell_type": "markdown",
   "metadata": {},
   "source": [
    "Usually the threshold is .5. The best threshold (or cutoff) point to be used in glm models is the point which maximises the specificity and the sensitivity. "
   ]
  },
  {
   "cell_type": "code",
   "execution_count": 34,
   "metadata": {
    "scrolled": true
   },
   "outputs": [
    {
     "name": "stdout",
     "output_type": "stream",
     "text": [
      "[(1, 0), (0, 0), (1, 0), (0, 0), (0, 0), (1, 0), (1, 0), (1, 0), (1, 0), (1, 0), (1, 0), (1, 0), (1, 1), (1, 0), (0, 1), (0, 0), (1, 1), (0, 0), (0, 0), (1, 0), (1, 0), (1, 1), (0, 0), (0, 0), (1, 0), (0, 0), (1, 0), (0, 0), (1, 0), (0, 0), (1, 1), (0, 0), (0, 0), (0, 0), (1, 0), (1, 0), (1, 0), (0, 1), (0, 1), (0, 0), (1, 0), (0, 1), (0, 1), (1, 1), (0, 0), (1, 1), (0, 1), (0, 0), (0, 0), (0, 0), (1, 1), (0, 1), (0, 0), (1, 1), (1, 0), (0, 1), (0, 0), (1, 0), (1, 0), (0, 0), (0, 0), (1, 0), (0, 0), (0, 0), (0, 1), (1, 0), (1, 1), (1, 1), (1, 1), (1, 1), (0, 1), (0, 0), (0, 0), (0, 1), (0, 0), (1, 1), (0, 1), (0, 0), (0, 0), (0, 1), (1, 0), (1, 0), (0, 0), (1, 0), (0, 0), (0, 0), (0, 0), (0, 0), (0, 1), (0, 0), (0, 1), (0, 1), (0, 1), (0, 0), (1, 0), (1, 0), (1, 0), (1, 0), (0, 1), (1, 0), (1, 0), (1, 0), (0, 0), (0, 1), (0, 0), (1, 0), (0, 0), (0, 0), (0, 0), (1, 1), (1, 1), (1, 1), (1, 0), (1, 0), (0, 0), (0, 0), (1, 1), (1, 1), (0, 0), (0, 1), (1, 1), (0, 0), (1, 1), (1, 1), (0, 0), (1, 0), (0, 0), (1, 1), (1, 0), (1, 0), (0, 0), (0, 0), (0, 0), (0, 0), (0, 0), (0, 1), (0, 0), (0, 1), (1, 0), (0, 0), (1, 0), (1, 0), (0, 0), (0, 0), (0, 0), (1, 1)]\n"
     ]
    }
   ],
   "source": [
    "myList = []\n",
    "for i in range(len(predicted)):\n",
    "    myList.append((int(y_test[i]),int(predicted[i])))\n",
    "print(myList)"
   ]
  },
  {
   "cell_type": "code",
   "execution_count": 35,
   "metadata": {},
   "outputs": [
    {
     "name": "stdout",
     "output_type": "stream",
     "text": [
      "146\n"
     ]
    }
   ],
   "source": [
    "# generate class probabilities\n",
    "probs = model2.predict_proba(X_test)\n",
    "print (len(probs))"
   ]
  },
  {
   "cell_type": "code",
   "execution_count": 36,
   "metadata": {
    "scrolled": true
   },
   "outputs": [
    {
     "name": "stdout",
     "output_type": "stream",
     "text": [
      "0.554794520548\n",
      "0.588446969697\n"
     ]
    }
   ],
   "source": [
    "# generate evaluation metrics\n",
    "from sklearn import metrics\n",
    "print (metrics.accuracy_score(y_test, predicted))\n",
    "print (metrics.roc_auc_score(y_test, probs[:, 1]))"
   ]
  },
  {
   "cell_type": "code",
   "execution_count": 37,
   "metadata": {
    "scrolled": true
   },
   "outputs": [
    {
     "name": "stdout",
     "output_type": "stream",
     "text": [
      "[[58 22]\n",
      " [43 23]]\n",
      "-----------------\n",
      "             precision    recall  f1-score   support\n",
      "\n",
      "        0.0       0.57      0.72      0.64        80\n",
      "        1.0       0.51      0.35      0.41        66\n",
      "\n",
      "avg / total       0.55      0.55      0.54       146\n",
      "\n"
     ]
    }
   ],
   "source": [
    "print (metrics.confusion_matrix(y_test, predicted))\n",
    "print(\"-----------------\")\n",
    "print (metrics.classification_report(y_test, predicted))"
   ]
  },
  {
   "cell_type": "code",
   "execution_count": 39,
   "metadata": {},
   "outputs": [
    {
     "name": "stdout",
     "output_type": "stream",
     "text": [
      "[ 0.46        0.66        0.65306122  0.6875      0.5625      0.72916667\n",
      "  0.625       0.64583333  0.64583333  0.66666667]\n",
      "0.633556122449\n"
     ]
    }
   ],
   "source": [
    "# evaluate the model using 10-fold cross-validation\n",
    "from sklearn.model_selection import cross_val_score\n",
    "scores = cross_val_score(LogisticRegression(), X, y, scoring='accuracy', cv=10)\n",
    "print (scores)\n",
    "print (scores.mean())"
   ]
  },
  {
   "cell_type": "code",
   "execution_count": null,
   "metadata": {
    "collapsed": true
   },
   "outputs": [],
   "source": []
  }
 ],
 "metadata": {
  "anaconda-cloud": {},
  "kernelspec": {
   "display_name": "Python 3",
   "language": "python",
   "name": "python3"
  },
  "language_info": {
   "codemirror_mode": {
    "name": "ipython",
    "version": 3
   },
   "file_extension": ".py",
   "mimetype": "text/x-python",
   "name": "python",
   "nbconvert_exporter": "python",
   "pygments_lexer": "ipython3",
   "version": "3.6.3"
  }
 },
 "nbformat": 4,
 "nbformat_minor": 1
}
