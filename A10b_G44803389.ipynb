{
 "cells": [
  {
   "cell_type": "code",
   "execution_count": 1,
   "metadata": {
    "collapsed": true
   },
   "outputs": [],
   "source": [
    "import pandas as pd\n",
    "import sklearn as skl\n",
    "import numpy as np"
   ]
  },
  {
   "cell_type": "code",
   "execution_count": 5,
   "metadata": {},
   "outputs": [
    {
     "name": "stderr",
     "output_type": "stream",
     "text": [
      "C:\\Users\\Justin\\Anaconda3\\lib\\site-packages\\IPython\\core\\interactiveshell.py:2698: DtypeWarning: Columns (8,9,10,11,12,43,157,196,214,225,228,229,231,235,238) have mixed types. Specify dtype option on import or set low_memory=False.\n",
      "  interactivity=interactivity, compiler=compiler, result=result)\n"
     ]
    }
   ],
   "source": [
    "#import the Training data\n",
    "\n",
    "Train = pd.read_csv('C:/Users/Justin/Documents/Grad Courses/DNSC 6211 - Programming for Analytics/Week 11/Assignment 10/Part B/train.csv')"
   ]
  },
  {
   "cell_type": "code",
   "execution_count": 6,
   "metadata": {},
   "outputs": [
    {
     "data": {
      "text/html": [
       "<div>\n",
       "<style>\n",
       "    .dataframe thead tr:only-child th {\n",
       "        text-align: right;\n",
       "    }\n",
       "\n",
       "    .dataframe thead th {\n",
       "        text-align: left;\n",
       "    }\n",
       "\n",
       "    .dataframe tbody tr th {\n",
       "        vertical-align: top;\n",
       "    }\n",
       "</style>\n",
       "<table border=\"1\" class=\"dataframe\">\n",
       "  <thead>\n",
       "    <tr style=\"text-align: right;\">\n",
       "      <th></th>\n",
       "      <th>ID</th>\n",
       "      <th>VAR_0001</th>\n",
       "      <th>VAR_0002</th>\n",
       "      <th>VAR_0003</th>\n",
       "      <th>VAR_0004</th>\n",
       "      <th>VAR_0005</th>\n",
       "      <th>VAR_0006</th>\n",
       "      <th>VAR_0007</th>\n",
       "      <th>VAR_0008</th>\n",
       "      <th>VAR_0009</th>\n",
       "      <th>...</th>\n",
       "      <th>VAR_1926</th>\n",
       "      <th>VAR_1927</th>\n",
       "      <th>VAR_1928</th>\n",
       "      <th>VAR_1929</th>\n",
       "      <th>VAR_1930</th>\n",
       "      <th>VAR_1931</th>\n",
       "      <th>VAR_1932</th>\n",
       "      <th>VAR_1933</th>\n",
       "      <th>VAR_1934</th>\n",
       "      <th>target</th>\n",
       "    </tr>\n",
       "  </thead>\n",
       "  <tbody>\n",
       "    <tr>\n",
       "      <th>0</th>\n",
       "      <td>2</td>\n",
       "      <td>H</td>\n",
       "      <td>224</td>\n",
       "      <td>0</td>\n",
       "      <td>4300</td>\n",
       "      <td>C</td>\n",
       "      <td>0.0</td>\n",
       "      <td>0.0</td>\n",
       "      <td>False</td>\n",
       "      <td>False</td>\n",
       "      <td>...</td>\n",
       "      <td>98</td>\n",
       "      <td>98</td>\n",
       "      <td>998</td>\n",
       "      <td>999999998</td>\n",
       "      <td>998</td>\n",
       "      <td>998</td>\n",
       "      <td>9998</td>\n",
       "      <td>9998</td>\n",
       "      <td>IAPS</td>\n",
       "      <td>0</td>\n",
       "    </tr>\n",
       "    <tr>\n",
       "      <th>1</th>\n",
       "      <td>4</td>\n",
       "      <td>H</td>\n",
       "      <td>7</td>\n",
       "      <td>53</td>\n",
       "      <td>4448</td>\n",
       "      <td>B</td>\n",
       "      <td>1.0</td>\n",
       "      <td>0.0</td>\n",
       "      <td>False</td>\n",
       "      <td>False</td>\n",
       "      <td>...</td>\n",
       "      <td>98</td>\n",
       "      <td>98</td>\n",
       "      <td>998</td>\n",
       "      <td>999999998</td>\n",
       "      <td>998</td>\n",
       "      <td>998</td>\n",
       "      <td>9998</td>\n",
       "      <td>9998</td>\n",
       "      <td>IAPS</td>\n",
       "      <td>0</td>\n",
       "    </tr>\n",
       "    <tr>\n",
       "      <th>2</th>\n",
       "      <td>5</td>\n",
       "      <td>H</td>\n",
       "      <td>116</td>\n",
       "      <td>3</td>\n",
       "      <td>3464</td>\n",
       "      <td>C</td>\n",
       "      <td>0.0</td>\n",
       "      <td>0.0</td>\n",
       "      <td>False</td>\n",
       "      <td>False</td>\n",
       "      <td>...</td>\n",
       "      <td>98</td>\n",
       "      <td>98</td>\n",
       "      <td>998</td>\n",
       "      <td>999999998</td>\n",
       "      <td>998</td>\n",
       "      <td>998</td>\n",
       "      <td>9998</td>\n",
       "      <td>9998</td>\n",
       "      <td>IAPS</td>\n",
       "      <td>0</td>\n",
       "    </tr>\n",
       "    <tr>\n",
       "      <th>3</th>\n",
       "      <td>7</td>\n",
       "      <td>H</td>\n",
       "      <td>240</td>\n",
       "      <td>300</td>\n",
       "      <td>3200</td>\n",
       "      <td>C</td>\n",
       "      <td>0.0</td>\n",
       "      <td>0.0</td>\n",
       "      <td>False</td>\n",
       "      <td>False</td>\n",
       "      <td>...</td>\n",
       "      <td>98</td>\n",
       "      <td>98</td>\n",
       "      <td>998</td>\n",
       "      <td>999999998</td>\n",
       "      <td>998</td>\n",
       "      <td>998</td>\n",
       "      <td>9998</td>\n",
       "      <td>9998</td>\n",
       "      <td>RCC</td>\n",
       "      <td>0</td>\n",
       "    </tr>\n",
       "    <tr>\n",
       "      <th>4</th>\n",
       "      <td>8</td>\n",
       "      <td>R</td>\n",
       "      <td>72</td>\n",
       "      <td>261</td>\n",
       "      <td>2000</td>\n",
       "      <td>N</td>\n",
       "      <td>0.0</td>\n",
       "      <td>0.0</td>\n",
       "      <td>False</td>\n",
       "      <td>False</td>\n",
       "      <td>...</td>\n",
       "      <td>98</td>\n",
       "      <td>98</td>\n",
       "      <td>998</td>\n",
       "      <td>999999998</td>\n",
       "      <td>998</td>\n",
       "      <td>998</td>\n",
       "      <td>9998</td>\n",
       "      <td>9998</td>\n",
       "      <td>BRANCH</td>\n",
       "      <td>1</td>\n",
       "    </tr>\n",
       "  </tbody>\n",
       "</table>\n",
       "<p>5 rows × 1934 columns</p>\n",
       "</div>"
      ],
      "text/plain": [
       "   ID VAR_0001  VAR_0002  VAR_0003  VAR_0004 VAR_0005  VAR_0006  VAR_0007  \\\n",
       "0   2        H       224         0      4300        C       0.0       0.0   \n",
       "1   4        H         7        53      4448        B       1.0       0.0   \n",
       "2   5        H       116         3      3464        C       0.0       0.0   \n",
       "3   7        H       240       300      3200        C       0.0       0.0   \n",
       "4   8        R        72       261      2000        N       0.0       0.0   \n",
       "\n",
       "  VAR_0008 VAR_0009   ...   VAR_1926 VAR_1927 VAR_1928   VAR_1929  VAR_1930  \\\n",
       "0    False    False   ...         98       98      998  999999998       998   \n",
       "1    False    False   ...         98       98      998  999999998       998   \n",
       "2    False    False   ...         98       98      998  999999998       998   \n",
       "3    False    False   ...         98       98      998  999999998       998   \n",
       "4    False    False   ...         98       98      998  999999998       998   \n",
       "\n",
       "   VAR_1931  VAR_1932  VAR_1933  VAR_1934  target  \n",
       "0       998      9998      9998      IAPS       0  \n",
       "1       998      9998      9998      IAPS       0  \n",
       "2       998      9998      9998      IAPS       0  \n",
       "3       998      9998      9998       RCC       0  \n",
       "4       998      9998      9998    BRANCH       1  \n",
       "\n",
       "[5 rows x 1934 columns]"
      ]
     },
     "execution_count": 6,
     "metadata": {},
     "output_type": "execute_result"
    }
   ],
   "source": [
    "#check the data import\n",
    "\n",
    "Train.head(n = 5)"
   ]
  },
  {
   "cell_type": "code",
   "execution_count": null,
   "metadata": {},
   "outputs": [
    {
     "name": "stderr",
     "output_type": "stream",
     "text": [
      "C:\\Users\\Justin\\Anaconda3\\lib\\site-packages\\IPython\\core\\interactiveshell.py:2698: DtypeWarning: Columns (8,9,10,11,12,43,157,167,177,196,214,225,228,229,231,235,238) have mixed types. Specify dtype option on import or set low_memory=False.\n",
      "  interactivity=interactivity, compiler=compiler, result=result)\n"
     ]
    }
   ],
   "source": [
    "#import Test data\n",
    "#cell not run because it crashed my computer multiple times\n",
    "\n",
    "Test = pd.read_csv('C:/Users/Justin/Documents/Grad Courses/DNSC 6211 - Programming for Analytics/Week 11/Assignment 10/Part B/test.csv')"
   ]
  },
  {
   "cell_type": "code",
   "execution_count": null,
   "metadata": {
    "collapsed": true
   },
   "outputs": [],
   "source": [
    "#drop the categorical variables"
   ]
  },
  {
   "cell_type": "code",
   "execution_count": 7,
   "metadata": {
    "collapsed": true
   },
   "outputs": [],
   "source": [
    "#import the linear_model functionality\n",
    "\n",
    "from sklearn import linear_model"
   ]
  },
  {
   "cell_type": "code",
   "execution_count": null,
   "metadata": {
    "collapsed": true
   },
   "outputs": [],
   "source": [
    "#create the model object with one hyperparameter set\n",
    "\n",
    "logreg = linear_model.LogisticRegression(C=le5)"
   ]
  },
  {
   "cell_type": "code",
   "execution_count": null,
   "metadata": {
    "collapsed": true
   },
   "outputs": [],
   "source": [
    "#Split the dataset into two separate dataframes, one for Y and one for X...."
   ]
  },
  {
   "cell_type": "code",
   "execution_count": null,
   "metadata": {
    "collapsed": true
   },
   "outputs": [],
   "source": [
    "#Train the model on the two separate dataframes\n",
    "\n",
    "logreg.fit(TrainX, TrainY)"
   ]
  },
  {
   "cell_type": "code",
   "execution_count": null,
   "metadata": {
    "collapsed": true
   },
   "outputs": [],
   "source": [
    "#run the predictions on the Test data\n",
    "\n",
    "predictions = logreg.predict(TestX)"
   ]
  },
  {
   "cell_type": "code",
   "execution_count": null,
   "metadata": {
    "collapsed": true
   },
   "outputs": [],
   "source": [
    "#convert results to CSV file\n",
    "\n",
    "Test.to_csv('NewFileName')"
   ]
  }
 ],
 "metadata": {
  "kernelspec": {
   "display_name": "Python 3",
   "language": "python",
   "name": "python3"
  },
  "language_info": {
   "codemirror_mode": {
    "name": "ipython",
    "version": 3
   },
   "file_extension": ".py",
   "mimetype": "text/x-python",
   "name": "python",
   "nbconvert_exporter": "python",
   "pygments_lexer": "ipython3",
   "version": "3.6.5"
  }
 },
 "nbformat": 4,
 "nbformat_minor": 2
}
