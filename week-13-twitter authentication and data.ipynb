{
 "cells": [
  {
   "cell_type": "code",
   "execution_count": null,
   "metadata": {
    "collapsed": true
   },
   "outputs": [],
   "source": [
    "# Make sure that you have installed the twitter library"
   ]
  },
  {
   "cell_type": "code",
   "execution_count": 1,
   "metadata": {
    "collapsed": true
   },
   "outputs": [],
   "source": [
    "import twitter\n",
    "\n",
    "def getAuthData():\n",
    "    import csv\n",
    "    with open('C:/Users/Justin/Documents/Grad Courses/DNSC 6211 - Programming for Analytics/Week 13/', 'r') as f:\n",
    "        reader = csv.reader(f)\n",
    "        your_list = list(reader)\n",
    "\n",
    "    authdata = {}   \n",
    "    for element in your_list:\n",
    "        authdata[element[0]] = element[1]\n",
    "\n",
    "    return authdata"
   ]
  },
  {
   "cell_type": "code",
   "execution_count": 8,
   "metadata": {},
   "outputs": [
    {
     "ename": "AttributeError",
     "evalue": "'builtin_function_or_method' object has no attribute 'AuthData'",
     "output_type": "error",
     "traceback": [
      "\u001b[1;31m---------------------------------------------------------------------------\u001b[0m",
      "\u001b[1;31mAttributeError\u001b[0m                            Traceback (most recent call last)",
      "\u001b[1;32m<ipython-input-8-56a624cfb635>\u001b[0m in \u001b[0;36m<module>\u001b[1;34m()\u001b[0m\n\u001b[1;32m----> 1\u001b[1;33m \u001b[0mprint\u001b[0m\u001b[1;33m.\u001b[0m\u001b[0mAuthData\u001b[0m\u001b[1;33m(\u001b[0m\u001b[1;33m)\u001b[0m\u001b[1;33m\u001b[0m\u001b[0m\n\u001b[0m",
      "\u001b[1;31mAttributeError\u001b[0m: 'builtin_function_or_method' object has no attribute 'AuthData'"
     ]
    }
   ],
   "source": [
    "print.AuthData()"
   ]
  },
  {
   "cell_type": "code",
   "execution_count": 3,
   "metadata": {
    "collapsed": true
   },
   "outputs": [],
   "source": [
    "def getTwitterData(searchTerm):\n",
    "    \n",
    "    authdata = getAuthData()\n",
    "\n",
    "    CONSUMER_KEY = authdata['CONSUMER_KEY']\n",
    "    CONSUMER_SECRET = authdata['CONSUMER_SECRET']\n",
    "    OAUTH_TOKEN = authdata['OAUTH_TOKEN']\n",
    "    OAUTH_TOKEN_SECRET = authdata['OAUTH_TOKEN_SECRET']\n",
    "    \n",
    "    auth = twitter.oauth.OAuth(OAUTH_TOKEN,\n",
    "                               OAUTH_TOKEN_SECRET,\n",
    "                               CONSUMER_KEY,\n",
    "                               CONSUMER_SECRET)\n",
    "    \n",
    "    twitter_api = twitter.Twitter(auth=auth)\n",
    "    \n",
    "    # Nothing to see by displaying twitter_api except that it's now a defined variable\n",
    "    print (twitter_api)\n",
    "    \n",
    "    searchCount = 1800 # The number of tweets you want ... you never get that !\n",
    "    \n",
    "    # See https://dev.twitter.com/docs/api/1.1/get/search/tweets\n",
    "    search_results = twitter_api.search.tweets(q=searchTerm, count=searchCount)\n",
    "    statuses = search_results['statuses']\n",
    "    \n",
    "    # Iterate through 5 more batches of results by following the cursor\n",
    "    \n",
    "    for _ in range(5):\n",
    "        print (\"Length of statuses\", len(statuses))\n",
    "        try:\n",
    "            next_results = search_results['search_metadata']['next_results']\n",
    "        except KeyError as e: # No more results when next_results doesn't exist\n",
    "            print (\"That's all folks for ...\", searchTerm)\n",
    "            break\n",
    "        # Create a dictionary from next_results, which has the following form:\n",
    "        # ?max_id=313519052523986943&q=NCAA&include_entities=1\n",
    "        # kwargs = dict([ kv.split('=') for kv in next_results[1:].split(\"&\") ])\n",
    "\t# This was in the original code piece, see link below\n",
    "\t# http://nbviewer.ipython.org/github/ptwobrussell/Mining-the-Social-Web/blob/master/ipython_notebooks/Chapter1.ipynb        \n",
    "\t# I just broke the previous statement into two parts shown below\n",
    "        # It may be easier for some folks to understand\n",
    "        # Also, I start from the 0 position instead of the 1 position to\n",
    "        # split based on \"&\"; make sure you explore the data in the\n",
    "        # variable explorer to understand what is going on -- Raj\n",
    "        myKVs = [ kv.split('=') for kv in next_results[1:].split(\"&\") ]\n",
    "        myStrippedKVs = [ [str(pp[0]), str(pp[1])] for pp in myKVs]\n",
    "        kwargs = dict(myStrippedKVs)    \n",
    "        search_results = twitter_api.search.tweets(**kwargs)\n",
    "        statuses += search_results['statuses']\n",
    "    \n",
    "    status_texts = [ status['text'] for status in statuses ]\n",
    "    return statuses"
   ]
  },
  {
   "cell_type": "code",
   "execution_count": null,
   "metadata": {
    "collapsed": true
   },
   "outputs": [],
   "source": [
    "get"
   ]
  },
  {
   "cell_type": "code",
   "execution_count": null,
   "metadata": {
    "collapsed": true
   },
   "outputs": [],
   "source": [
    "def getTwitterData2(searchTerm):\n",
    "    \n",
    "    import json\n",
    "    \n",
    "    authdata = getAuthData()\n",
    "\n",
    "    CONSUMER_KEY = authdata['CONSUMER_KEY']\n",
    "    CONSUMER_SECRET = authdata['CONSUMER_SECRET']\n",
    "    OAUTH_TOKEN = authdata['OAUTH_TOKEN']\n",
    "    OAUTH_TOKEN_SECRET = authdata['OAUTH_TOKEN_SECRET']\n",
    "    \n",
    "    auth = twitter.oauth.OAuth(OAUTH_TOKEN,\n",
    "                               OAUTH_TOKEN_SECRET,\n",
    "                               CONSUMER_KEY,\n",
    "                               CONSUMER_SECRET)\n",
    "    \n",
    "    twitter_api = twitter.Twitter(auth=auth)\n",
    "    \n",
    "    # Nothing to see by displaying twitter_api except that it's now a defined variable\n",
    "    print (twitter_api)\n",
    "    \n",
    "    searchCount = 1800 # The number of tweets you want ... you never get that !\n",
    "      \n",
    "    with open('/home/drk/kanungo/DNSC6211/week13-twitter/PartA/outfile.txt','a') as outfile:    \n",
    "        search_results = twitter_api.search.tweets(q=searchTerm, count=searchCount)\n",
    "        statuses = search_results['statuses']\n",
    "    \n",
    "        for tweet in statuses:\n",
    "            if 'text' in tweet:\n",
    "                outfile.write(json.dumps(tweet[\"text\"]))"
   ]
  }
 ],
 "metadata": {
  "anaconda-cloud": {},
  "kernelspec": {
   "display_name": "Python 3",
   "language": "python",
   "name": "python3"
  },
  "language_info": {
   "codemirror_mode": {
    "name": "ipython",
    "version": 3
   },
   "file_extension": ".py",
   "mimetype": "text/x-python",
   "name": "python",
   "nbconvert_exporter": "python",
   "pygments_lexer": "ipython3",
   "version": "3.6.3"
  }
 },
 "nbformat": 4,
 "nbformat_minor": 1
}
