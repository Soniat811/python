{
 "cells": [
  {
   "cell_type": "code",
   "execution_count": 2,
   "metadata": {
    "collapsed": true
   },
   "outputs": [],
   "source": [
    "import pandas as pd\n",
    "import matplotlib.pyplot as plt\n",
    "import numpy as np"
   ]
  },
  {
   "cell_type": "code",
   "execution_count": 13,
   "metadata": {},
   "outputs": [
    {
     "data": {
      "text/html": [
       "<div>\n",
       "<table border=\"1\" class=\"dataframe\">\n",
       "  <thead>\n",
       "    <tr style=\"text-align: right;\">\n",
       "      <th></th>\n",
       "      <th>Team</th>\n",
       "      <th>League</th>\n",
       "      <th>Year</th>\n",
       "      <th>RS</th>\n",
       "      <th>RA</th>\n",
       "      <th>W</th>\n",
       "      <th>OBP</th>\n",
       "      <th>SLG</th>\n",
       "      <th>BA</th>\n",
       "      <th>Playoffs</th>\n",
       "      <th>RankSeason</th>\n",
       "      <th>RankPlayoffs</th>\n",
       "      <th>G</th>\n",
       "      <th>OOBP</th>\n",
       "      <th>OSLG</th>\n",
       "    </tr>\n",
       "  </thead>\n",
       "  <tbody>\n",
       "    <tr>\n",
       "      <th>0</th>\n",
       "      <td>ARI</td>\n",
       "      <td>NL</td>\n",
       "      <td>2012</td>\n",
       "      <td>734</td>\n",
       "      <td>688</td>\n",
       "      <td>81</td>\n",
       "      <td>0.328</td>\n",
       "      <td>0.418</td>\n",
       "      <td>0.259</td>\n",
       "      <td>0</td>\n",
       "      <td>NaN</td>\n",
       "      <td>NaN</td>\n",
       "      <td>162</td>\n",
       "      <td>0.317</td>\n",
       "      <td>0.415</td>\n",
       "    </tr>\n",
       "    <tr>\n",
       "      <th>1</th>\n",
       "      <td>ATL</td>\n",
       "      <td>NL</td>\n",
       "      <td>2012</td>\n",
       "      <td>700</td>\n",
       "      <td>600</td>\n",
       "      <td>94</td>\n",
       "      <td>0.320</td>\n",
       "      <td>0.389</td>\n",
       "      <td>0.247</td>\n",
       "      <td>1</td>\n",
       "      <td>4.0</td>\n",
       "      <td>5.0</td>\n",
       "      <td>162</td>\n",
       "      <td>0.306</td>\n",
       "      <td>0.378</td>\n",
       "    </tr>\n",
       "    <tr>\n",
       "      <th>2</th>\n",
       "      <td>BAL</td>\n",
       "      <td>AL</td>\n",
       "      <td>2012</td>\n",
       "      <td>712</td>\n",
       "      <td>705</td>\n",
       "      <td>93</td>\n",
       "      <td>0.311</td>\n",
       "      <td>0.417</td>\n",
       "      <td>0.247</td>\n",
       "      <td>1</td>\n",
       "      <td>5.0</td>\n",
       "      <td>4.0</td>\n",
       "      <td>162</td>\n",
       "      <td>0.315</td>\n",
       "      <td>0.403</td>\n",
       "    </tr>\n",
       "    <tr>\n",
       "      <th>3</th>\n",
       "      <td>BOS</td>\n",
       "      <td>AL</td>\n",
       "      <td>2012</td>\n",
       "      <td>734</td>\n",
       "      <td>806</td>\n",
       "      <td>69</td>\n",
       "      <td>0.315</td>\n",
       "      <td>0.415</td>\n",
       "      <td>0.260</td>\n",
       "      <td>0</td>\n",
       "      <td>NaN</td>\n",
       "      <td>NaN</td>\n",
       "      <td>162</td>\n",
       "      <td>0.331</td>\n",
       "      <td>0.428</td>\n",
       "    </tr>\n",
       "    <tr>\n",
       "      <th>4</th>\n",
       "      <td>CHC</td>\n",
       "      <td>NL</td>\n",
       "      <td>2012</td>\n",
       "      <td>613</td>\n",
       "      <td>759</td>\n",
       "      <td>61</td>\n",
       "      <td>0.302</td>\n",
       "      <td>0.378</td>\n",
       "      <td>0.240</td>\n",
       "      <td>0</td>\n",
       "      <td>NaN</td>\n",
       "      <td>NaN</td>\n",
       "      <td>162</td>\n",
       "      <td>0.335</td>\n",
       "      <td>0.424</td>\n",
       "    </tr>\n",
       "  </tbody>\n",
       "</table>\n",
       "</div>"
      ],
      "text/plain": [
       "  Team League  Year   RS   RA   W    OBP    SLG     BA  Playoffs  RankSeason  \\\n",
       "0  ARI     NL  2012  734  688  81  0.328  0.418  0.259         0         NaN   \n",
       "1  ATL     NL  2012  700  600  94  0.320  0.389  0.247         1         4.0   \n",
       "2  BAL     AL  2012  712  705  93  0.311  0.417  0.247         1         5.0   \n",
       "3  BOS     AL  2012  734  806  69  0.315  0.415  0.260         0         NaN   \n",
       "4  CHC     NL  2012  613  759  61  0.302  0.378  0.240         0         NaN   \n",
       "\n",
       "   RankPlayoffs    G   OOBP   OSLG  \n",
       "0           NaN  162  0.317  0.415  \n",
       "1           5.0  162  0.306  0.378  \n",
       "2           4.0  162  0.315  0.403  \n",
       "3           NaN  162  0.331  0.428  \n",
       "4           NaN  162  0.335  0.424  "
      ]
     },
     "execution_count": 13,
     "metadata": {},
     "output_type": "execute_result"
    }
   ],
   "source": [
    "# Read data\n",
    "df = pd.read_csv('baseball.csv')\n",
    "df.head()"
   ]
  },
  {
   "cell_type": "code",
   "execution_count": 16,
   "metadata": {},
   "outputs": [
    {
     "data": {
      "text/plain": [
       "1232"
      ]
     },
     "execution_count": 16,
     "metadata": {},
     "output_type": "execute_result"
    }
   ],
   "source": [
    "len(df)"
   ]
  },
  {
   "cell_type": "code",
   "execution_count": 18,
   "metadata": {},
   "outputs": [
    {
     "name": "stdout",
     "output_type": "stream",
     "text": [
      "['ANA', 'ARI', 'ATL', 'BAL', 'BOS', 'CHC', 'CHW', 'CIN', 'CLE', 'COL', 'DET', 'FLA', 'HOU', 'KCR', 'LAD', 'MIL', 'MIN', 'MON', 'NYM', 'NYY', 'OAK', 'PHI', 'PIT', 'SDP', 'SEA', 'SFG', 'STL', 'TBD', 'TEX', 'TOR', 'CAL']\n",
      "    Team    W  Playoffs  teamCode  WPlayoffs\n",
      "330  ANA   75         0         0        NaN\n",
      "331  ARI   92         1         1       92.0\n",
      "332  ATL   88         1         2       88.0\n",
      "333  BAL   63         0         3        NaN\n",
      "334  BOS   82         0         4        NaN\n",
      "335  CHC   88         0         5        NaN\n",
      "336  CHW   83         0         6        NaN\n",
      "337  CIN   66         0         7        NaN\n",
      "338  CLE   91         1         8       91.0\n",
      "339  COL   73         0         9        NaN\n",
      "340  DET   66         0        10        NaN\n",
      "341  FLA   76         0        11        NaN\n",
      "342  HOU   93         1        12       93.0\n",
      "343  KCR   65         0        13        NaN\n",
      "344  LAD   86         0        14        NaN\n",
      "345  MIL   68         0        15        NaN\n",
      "346  MIN   85         0        16        NaN\n",
      "347  MON   68         0        17        NaN\n",
      "348  NYM   82         0        18        NaN\n",
      "349  NYY   95         1        19       95.0\n",
      "350  OAK  102         1        20      102.0\n",
      "351  PHI   86         0        21        NaN\n",
      "352  PIT   62         0        22        NaN\n",
      "353  SDP   79         0        23        NaN\n",
      "354  SEA  116         1        24      116.0\n",
      "355  SFG   90         0        25        NaN\n",
      "356  STL   93         1        26       93.0\n",
      "357  TBD   62         0        27        NaN\n",
      "358  TEX   73         0        28        NaN\n",
      "359  TOR   80         0        29        NaN\n",
      "..   ...  ...       ...       ...        ...\n",
      "476  TEX   77         0        28        NaN\n",
      "477  TOR   76         0        29        NaN\n",
      "478  ATL   96         1         2       96.0\n",
      "479  BAL   88         1         3       88.0\n",
      "480  BOS   85         0         4        NaN\n",
      "481  CAL   70         0        30        NaN\n",
      "482  CHC   76         0         5        NaN\n",
      "483  CHW   85         0         6        NaN\n",
      "484  CIN   81         0         7        NaN\n",
      "485  CLE   99         1         8       99.0\n",
      "486  COL   83         0         9        NaN\n",
      "487  DET   53         0        10        NaN\n",
      "488  FLA   80         0        11        NaN\n",
      "489  HOU   82         0        12        NaN\n",
      "490  KCR   75         0        13        NaN\n",
      "491  LAD   90         1        14       90.0\n",
      "492  MIL   80         0        15        NaN\n",
      "493  MIN   78         0        16        NaN\n",
      "494  MON   88         0        17        NaN\n",
      "495  NYM   71         0        18        NaN\n",
      "496  NYY   92         1        19       92.0\n",
      "497  OAK   78         0        20        NaN\n",
      "498  PHI   67         0        21        NaN\n",
      "499  PIT   73         0        22        NaN\n",
      "500  SDP   91         1        23       91.0\n",
      "501  SEA   85         0        24        NaN\n",
      "502  SFG   68         0        25        NaN\n",
      "503  STL   88         1        26       88.0\n",
      "504  TEX   90         1        28       90.0\n",
      "505  TOR   74         0        29        NaN\n",
      "\n",
      "[176 rows x 5 columns]\n"
     ]
    },
    {
     "data": {
      "text/plain": [
       "<matplotlib.figure.Figure at 0x28b43082160>"
      ]
     },
     "metadata": {},
     "output_type": "display_data"
    },
    {
     "data": {
      "image/png": "[encoded data removed]",
      "text/plain": [
       "<matplotlib.figure.Figure at 0x28b423ecc50>"
      ]
     },
     "metadata": {},
     "output_type": "display_data"
    }
   ],
   "source": [
    "##### PLOT the benchmark wins\n",
    "#take the time to understand this part\n",
    "\n",
    "mydf = df.loc[(df.Year >= 1996) & (df.Year <= 2001), ['Team', 'W', 'Playoffs']]\n",
    "# How many records in mydf\n",
    "\n",
    "# Get unique team names\n",
    "team_list = list(mydf.Team.unique())\n",
    "# See what team_list looks like\n",
    "\n",
    "# Create team code column\n",
    "import math\n",
    "teamCode = []\n",
    "# For each row in the column,\n",
    "for row in mydf['Team']:\n",
    "    code = team_list.index(row)\n",
    "    if code >= 0:\n",
    "        teamCode.append(code)\n",
    "    else:\n",
    "        # Append a nan\n",
    "        teamCode.append(math.nan)\n",
    "\n",
    "# what is the length if teamCode)?\n",
    " \n",
    "# Create a column in the data frame from the list\n",
    "mydf['teamCode'] = teamCode\n",
    "\n",
    "# Create a new column 'Wins given gone to playoffs'\n",
    "mydf['WPlayoffs'] = np.where(mydf['Playoffs']==1, mydf['W'], float('nan'))\n",
    "\n",
    "\n",
    "\n",
    "\n",
    "# Clear plot\n",
    "plt.clf()\n",
    "# https://github.com/pydata/pandas/issues/9909\n",
    "# 2 y axes\n",
    "# secondary axis does not work on scatter plot\n",
    "ax=mydf.plot(kind='scatter',x='teamCode',y='W',label='Wins',color='blue')\n",
    "mydf.plot(kind='scatter',x='teamCode',y='WPlayoffs',label='Wins+Playoffs',color='red', \\\n",
    "    ax=ax,secondary_y=True)\n",
    "plt.axhline(y=95, color = 'orange', linewidth=2)\n",
    "plt.axhline(y=85, color = 'pink', linewidth=2)\n",
    "plt.axhline(y=100, color = 'red', linewidth=2)\n",
    "plt.show()"
   ]
  },
  {
   "cell_type": "code",
   "execution_count": 5,
   "metadata": {},
   "outputs": [
    {
     "data": {
      "text/html": [
       "<div>\n",
       "<table border=\"1\" class=\"dataframe\">\n",
       "  <thead>\n",
       "    <tr style=\"text-align: right;\">\n",
       "      <th></th>\n",
       "      <th>RS</th>\n",
       "      <th>RA</th>\n",
       "      <th>RD</th>\n",
       "    </tr>\n",
       "  </thead>\n",
       "  <tbody>\n",
       "    <tr>\n",
       "      <th>330</th>\n",
       "      <td>691</td>\n",
       "      <td>730</td>\n",
       "      <td>-39</td>\n",
       "    </tr>\n",
       "    <tr>\n",
       "      <th>331</th>\n",
       "      <td>818</td>\n",
       "      <td>677</td>\n",
       "      <td>141</td>\n",
       "    </tr>\n",
       "    <tr>\n",
       "      <th>332</th>\n",
       "      <td>729</td>\n",
       "      <td>643</td>\n",
       "      <td>86</td>\n",
       "    </tr>\n",
       "    <tr>\n",
       "      <th>333</th>\n",
       "      <td>687</td>\n",
       "      <td>829</td>\n",
       "      <td>-142</td>\n",
       "    </tr>\n",
       "    <tr>\n",
       "      <th>334</th>\n",
       "      <td>772</td>\n",
       "      <td>745</td>\n",
       "      <td>27</td>\n",
       "    </tr>\n",
       "  </tbody>\n",
       "</table>\n",
       "</div>"
      ],
      "text/plain": [
       "      RS   RA   RD\n",
       "330  691  730  -39\n",
       "331  818  677  141\n",
       "332  729  643   86\n",
       "333  687  829 -142\n",
       "334  772  745   27"
      ]
     },
     "execution_count": 5,
     "metadata": {},
     "output_type": "execute_result"
    }
   ],
   "source": [
    "df1 = df.query('Year < 2002')\n",
    "newCol = df1.RS - df1.RA           # This is a data series\n",
    "ds=newCol.to_frame()               # Convert this series to a data frame\n",
    "ds.columns=['RD']                  # Name the column of this data frame\n",
    "df1 = pd.concat([df1,ds],axis=1)   # pandas.pydata.org/pandas-docs/stable/merging.html\n",
    "#df1.head()\n",
    "df1[['RS','RA','RD']].head()"
   ]
  },
  {
   "cell_type": "code",
   "execution_count": 6,
   "metadata": {},
   "outputs": [
    {
     "data": {
      "image/png": "[encoded data removed]",
      "text/plain": [
       "<matplotlib.figure.Figure at 0x28b40f08e10>"
      ]
     },
     "metadata": {},
     "output_type": "display_data"
    }
   ],
   "source": [
    "##### BEGIN of actual analysis\n",
    "\n",
    "# Method 2 - results in warnings\n",
    "#df1 = df.query('Year < 2002')\n",
    "#newCol = df1.RS - df1.RA\n",
    "#df1.loc[:,'RD'] = newCol\n",
    "\n",
    "# Method 3 - results in warnings\n",
    "#df1 = df.query('Year < 2002')\n",
    "#df1['RD'] = df1['RS']-df1['RA']\n",
    "#print(df1['RD'])\n",
    "\n",
    "plt.clf()\n",
    "plt.scatter(df1['RD'],df1['W'])\n",
    "plt.xlabel('Run Difference')\n",
    "plt.ylabel('Wins')\n",
    "plt.title('Not so surprising')\n",
    "plt.axis([-400, 400, 0, 120])\n",
    "plt.text(0, 60, 'that it is a +ve relation', color='green', fontsize=15)\n",
    "plt.grid(True)\n",
    "plt.show()"
   ]
  },
  {
   "cell_type": "code",
   "execution_count": 7,
   "metadata": {},
   "outputs": [
    {
     "name": "stdout",
     "output_type": "stream",
     "text": [
      "Intercept: 80.8814, Run Difference: 0.1058\n",
      "R-squared: 0.8808\n",
      "\n",
      "R-squared: 0.8808 using alternate method\n"
     ]
    }
   ],
   "source": [
    "# Model 1\n",
    "from sklearn import linear_model\n",
    "from pandas import DataFrame\n",
    "\n",
    "myData = DataFrame(data = df1, columns = ['W', 'RD'])\n",
    "model = linear_model.LinearRegression(fit_intercept = True)\n",
    "RD = myData.RD.values.reshape(len(myData), 1)\n",
    "W = myData.W.values.reshape(len(myData), 1)\n",
    "fit = model.fit(RD, W)\n",
    "print ('Intercept: %.4f, Run Difference: %.4f' % (fit.intercept_, fit.coef_))\n",
    "\n",
    "from sklearn.metrics import r2_score\n",
    "pred = model.predict(RD)\n",
    "r2 = r2_score(W,pred) \n",
    "print ('R-squared: %.4f' % (r2))\n",
    "print()\n",
    "print('R-squared: %.4f using alternate method' % fit.score(RD, W)) # Another way to get R2\n",
    "# myref: http://nbviewer.jupyter.org/github/wuillou8/SuperRepository/blob/master/MLearning/Python/SCIKIT/EXOAdSquare/Adsquare.html"
   ]
  },
  {
   "cell_type": "code",
   "execution_count": 1,
   "metadata": {},
   "outputs": [
    {
     "ename": "NameError",
     "evalue": "name 'DataFrame' is not defined",
     "output_type": "error",
     "traceback": [
      "\u001b[1;31m---------------------------------------------------------------------------\u001b[0m",
      "\u001b[1;31mNameError\u001b[0m                                 Traceback (most recent call last)",
      "\u001b[1;32m<ipython-input-1-c8f56881d85d>\u001b[0m in \u001b[0;36m<module>\u001b[1;34m()\u001b[0m\n\u001b[0;32m      6\u001b[0m \u001b[1;31m#Since RS helps predict RD, then what helps to predict RS?\u001b[0m\u001b[1;33m\u001b[0m\u001b[1;33m\u001b[0m\u001b[0m\n\u001b[0;32m      7\u001b[0m \u001b[1;33m\u001b[0m\u001b[0m\n\u001b[1;32m----> 8\u001b[1;33m \u001b[0mx\u001b[0m \u001b[1;33m=\u001b[0m \u001b[0mDataFrame\u001b[0m\u001b[1;33m(\u001b[0m\u001b[0mdata\u001b[0m \u001b[1;33m=\u001b[0m \u001b[0mdf1\u001b[0m\u001b[1;33m,\u001b[0m \u001b[0mcolumns\u001b[0m \u001b[1;33m=\u001b[0m \u001b[1;33m[\u001b[0m\u001b[1;34m'OBP'\u001b[0m\u001b[1;33m,\u001b[0m \u001b[1;34m'SLG'\u001b[0m\u001b[1;33m]\u001b[0m\u001b[1;33m)\u001b[0m\u001b[1;33m\u001b[0m\u001b[0m\n\u001b[0m\u001b[0;32m      9\u001b[0m \u001b[0mxarr\u001b[0m \u001b[1;33m=\u001b[0m \u001b[0mx\u001b[0m\u001b[1;33m.\u001b[0m\u001b[0mas_matrix\u001b[0m\u001b[1;33m(\u001b[0m\u001b[1;33m)\u001b[0m\u001b[1;33m\u001b[0m\u001b[0m\n\u001b[0;32m     10\u001b[0m \u001b[0mX\u001b[0m \u001b[1;33m=\u001b[0m \u001b[0mnp\u001b[0m\u001b[1;33m.\u001b[0m\u001b[0marray\u001b[0m\u001b[1;33m(\u001b[0m\u001b[1;33m[\u001b[0m\u001b[0mnp\u001b[0m\u001b[1;33m.\u001b[0m\u001b[0mconcatenate\u001b[0m\u001b[1;33m(\u001b[0m\u001b[1;33m(\u001b[0m\u001b[0mv\u001b[0m\u001b[1;33m,\u001b[0m\u001b[1;33m[\u001b[0m\u001b[1;36m1\u001b[0m\u001b[1;33m]\u001b[0m\u001b[1;33m)\u001b[0m\u001b[1;33m)\u001b[0m \u001b[1;32mfor\u001b[0m \u001b[0mv\u001b[0m \u001b[1;32min\u001b[0m \u001b[0mxarr\u001b[0m\u001b[1;33m]\u001b[0m\u001b[1;33m)\u001b[0m\u001b[1;33m\u001b[0m\u001b[0m\n",
      "\u001b[1;31mNameError\u001b[0m: name 'DataFrame' is not defined"
     ]
    }
   ],
   "source": [
    "# Model 2\n",
    "# http://facweb.cs.depaul.edu/mobasher/classes/csc478/Notes/IPython%20Notebook%20-%20Regression.html\n",
    "#RS = f(OBP, SLG)\n",
    "#RS = f(OBP, SLG, BA)\n",
    "\n",
    "x = DataFrame(data = df1, columns = ['OBP', 'SLG','BA'])\n",
    "xarr = x.as_matrix()\n",
    "X = np.array([np.concatenate((v,[1])) for v in xarr])\n",
    "model = linear_model.LinearRegression(fit_intercept = True)\n",
    "y = DataFrame(data = df1, columns = ['RS'])\n",
    "yarr = y.as_matrix()\n",
    "fit = model.fit(X,yarr)\n",
    "#fit.intercept_\n",
    "#fit.coef_\n",
    "\n",
    "print(\"Intercept : \", fit.intercept_)\n",
    "print(\"Slope : \", fit.coef_)\n",
    "\n",
    "from sklearn.metrics import r2_score\n",
    "pred = model.predict(X)\n",
    "r2 = r2_score(yarr,pred) \n",
    "print ('R-squared: %.4f' % (r2))"
   ]
  },
  {
   "cell_type": "code",
   "execution_count": 10,
   "metadata": {},
   "outputs": [
    {
     "name": "stdout",
     "output_type": "stream",
     "text": [
      "R-squared: 0.9296\n"
     ]
    }
   ],
   "source": [
    "# Model 2 (continued) ...\n",
    "# Remove BA due to reasons of multicollinearity\n",
    "x = pd.DataFrame(data = df1, columns = ['OBP', 'SLG'])\n",
    "xarr = x.as_matrix()\n",
    "X = np.array([np.concatenate((v,[1])) for v in xarr])\n",
    "model = linear_model.LinearRegression(fit_intercept = True)\n",
    "y = DataFrame(data = df1, columns = ['RS'])\n",
    "yarr = y.as_matrix()\n",
    "fit = model.fit(X,yarr)\n",
    "fit.intercept_\n",
    "fit.coef_\n",
    "\n",
    "from sklearn.metrics import r2_score\n",
    "pred = model.predict(X)\n",
    "r2 = r2_score(yarr, pred) \n",
    "print ('R-squared: %.4f' % (r2))"
   ]
  },
  {
   "cell_type": "code",
   "execution_count": 11,
   "metadata": {},
   "outputs": [
    {
     "name": "stdout",
     "output_type": "stream",
     "text": [
      "Intercept :  [-837.37788861]\n",
      "Slope :  [[ 2913.59948582  1514.28595842     0.        ]]\n",
      "R-squared: 0.9073\n"
     ]
    }
   ],
   "source": [
    "# Model 3\n",
    "# Runs allowed\n",
    "# RA = f(OOBP, OSLG)\n",
    "\n",
    "mydata = DataFrame(data = df1, columns = ['RA','OOBP', 'OSLG'])\n",
    "len(mydata)\n",
    "mydata1 = mydata.dropna()\n",
    "len(mydata1)\n",
    "\n",
    "x = DataFrame(data = mydata1, columns = ['OOBP', 'OSLG'])\n",
    "xarr = x.as_matrix()\n",
    "X = np.array([np.concatenate((v,[1])) for v in xarr])\n",
    "model = linear_model.LinearRegression(fit_intercept = True)\n",
    "y = DataFrame(data = mydata1, columns = ['RA'])\n",
    "yarr = y.as_matrix()\n",
    "fit = model.fit(X,yarr)\n",
    "print(\"Intercept : \",fit.intercept_)\n",
    "print(\"Slope : \", fit.coef_)\n",
    "\n",
    "from sklearn.metrics import r2_score\n",
    "pred = model.predict(X)\n",
    "r2 = r2_score(yarr,pred) \n",
    "print ('R-squared: %.4f' % (r2))"
   ]
  }
 ],
 "metadata": {
  "anaconda-cloud": {},
  "kernelspec": {
   "display_name": "Python 3",
   "language": "python",
   "name": "python3"
  },
  "language_info": {
   "codemirror_mode": {
    "name": "ipython",
    "version": 3
   },
   "file_extension": ".py",
   "mimetype": "text/x-python",
   "name": "python",
   "nbconvert_exporter": "python",
   "pygments_lexer": "ipython3",
   "version": "3.6.3"
  }
 },
 "nbformat": 4,
 "nbformat_minor": 1
}
