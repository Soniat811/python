{
 "cells": [
  {
   "cell_type": "markdown",
   "metadata": {},
   "source": [
    "### Slide 5"
   ]
  },
  {
   "cell_type": "code",
   "execution_count": 2,
   "metadata": {
    "collapsed": true
   },
   "outputs": [],
   "source": [
    "#Assign 3 to identifier myint\n",
    "myint = 3"
   ]
  },
  {
   "cell_type": "code",
   "execution_count": 3,
   "metadata": {},
   "outputs": [
    {
     "data": {
      "text/plain": [
       "int"
      ]
     },
     "execution_count": 3,
     "metadata": {},
     "output_type": "execute_result"
    }
   ],
   "source": [
    "# Is myint a variable? Why?\n",
    "type(myint)"
   ]
  },
  {
   "cell_type": "code",
   "execution_count": 4,
   "metadata": {
    "collapsed": true
   },
   "outputs": [],
   "source": [
    "# Assign 4.3 to identifier myfloat\n",
    "myfloat = 4.3"
   ]
  },
  {
   "cell_type": "code",
   "execution_count": 5,
   "metadata": {},
   "outputs": [
    {
     "data": {
      "text/plain": [
       "float"
      ]
     },
     "execution_count": 5,
     "metadata": {},
     "output_type": "execute_result"
    }
   ],
   "source": [
    "type(myfloat)"
   ]
  },
  {
   "cell_type": "code",
   "execution_count": 6,
   "metadata": {
    "collapsed": true
   },
   "outputs": [],
   "source": [
    "#Assign 3.3 to myint\n",
    "myint = 3.3\n",
    "\n",
    "# What happened here?"
   ]
  },
  {
   "cell_type": "markdown",
   "metadata": {},
   "source": [
    "### Slide 8"
   ]
  },
  {
   "cell_type": "code",
   "execution_count": 7,
   "metadata": {},
   "outputs": [
    {
     "name": "stdout",
     "output_type": "stream",
     "text": [
      "6\n"
     ]
    }
   ],
   "source": [
    "v1 = 6\n",
    "print(v1)"
   ]
  },
  {
   "cell_type": "code",
   "execution_count": 8,
   "metadata": {},
   "outputs": [
    {
     "name": "stdout",
     "output_type": "stream",
     "text": [
      "3.5\n"
     ]
    }
   ],
   "source": [
    "v2 = 3.5\n",
    "print(v2)"
   ]
  },
  {
   "cell_type": "code",
   "execution_count": 9,
   "metadata": {},
   "outputs": [
    {
     "name": "stdout",
     "output_type": "stream",
     "text": [
      "1.71428571429\n"
     ]
    }
   ],
   "source": [
    "v3 = v1 / v2\n",
    "print(v3)"
   ]
  },
  {
   "cell_type": "code",
   "execution_count": 10,
   "metadata": {},
   "outputs": [
    {
     "name": "stdout",
     "output_type": "stream",
     "text": [
      "1.0\n"
     ]
    }
   ],
   "source": [
    "v4 = v1 // v2\n",
    "print(v4)"
   ]
  },
  {
   "cell_type": "code",
   "execution_count": 11,
   "metadata": {},
   "outputs": [
    {
     "name": "stdout",
     "output_type": "stream",
     "text": [
      "2.5\n"
     ]
    }
   ],
   "source": [
    "v5 = v1 % v2\n",
    "print(v5)"
   ]
  },
  {
   "cell_type": "code",
   "execution_count": 12,
   "metadata": {},
   "outputs": [
    {
     "name": "stdout",
     "output_type": "stream",
     "text": [
      "True\n"
     ]
    }
   ],
   "source": [
    "v6 = True\n",
    "print(v6)"
   ]
  },
  {
   "cell_type": "code",
   "execution_count": 13,
   "metadata": {},
   "outputs": [
    {
     "name": "stdout",
     "output_type": "stream",
     "text": [
      "False\n"
     ]
    }
   ],
   "source": [
    "v7 = (7 > 8)\n",
    "print(v7)"
   ]
  },
  {
   "cell_type": "code",
   "execution_count": 14,
   "metadata": {},
   "outputs": [
    {
     "name": "stdout",
     "output_type": "stream",
     "text": [
      "7\n"
     ]
    }
   ],
   "source": [
    "v8 = v1 + v6 - v7\n",
    "print(v8)"
   ]
  },
  {
   "cell_type": "code",
   "execution_count": 15,
   "metadata": {},
   "outputs": [
    {
     "name": "stdout",
     "output_type": "stream",
     "text": [
      "None\n"
     ]
    }
   ],
   "source": [
    "v1 = None\n",
    "print(v1)"
   ]
  },
  {
   "cell_type": "code",
   "execution_count": 16,
   "metadata": {},
   "outputs": [
    {
     "ename": "NameError",
     "evalue": "name 'v2' is not defined",
     "output_type": "error",
     "traceback": [
      "\u001b[1;31m\u001b[0m",
      "\u001b[1;31mNameError\u001b[0mTraceback (most recent call last)",
      "\u001b[1;32m<ipython-input-16-a265fbd396b4>\u001b[0m in \u001b[0;36m<module>\u001b[1;34m()\u001b[0m\n\u001b[0;32m      1\u001b[0m \u001b[1;32mdel\u001b[0m \u001b[1;33m(\u001b[0m\u001b[0mv2\u001b[0m\u001b[1;33m)\u001b[0m\u001b[1;33m\u001b[0m\u001b[0m\n\u001b[1;32m----> 2\u001b[1;33m \u001b[1;32mprint\u001b[0m\u001b[1;33m(\u001b[0m\u001b[0mv2\u001b[0m\u001b[1;33m)\u001b[0m\u001b[1;33m\u001b[0m\u001b[0m\n\u001b[0m",
      "\u001b[1;31mNameError\u001b[0m: name 'v2' is not defined"
     ]
    }
   ],
   "source": [
    "del (v2)\n",
    "print(v2)"
   ]
  },
  {
   "cell_type": "markdown",
   "metadata": {},
   "source": [
    "### Slide 15"
   ]
  },
  {
   "cell_type": "code",
   "execution_count": 17,
   "metadata": {},
   "outputs": [
    {
     "name": "stdout",
     "output_type": "stream",
     "text": [
      "Here\tis a tab character and this\n",
      " is a newline\n",
      "Here\\tis a tab character and this\\n is a newline\n",
      "Here\tis a tab character and this\n",
      " is a newline\n",
      "'Here\\tis a tab character and this\\n is a newline'\n"
     ]
    }
   ],
   "source": [
    "print (\"Here\\tis a tab character and this\\n is a newline\")\n",
    "print (r\"Here\\tis a tab character and this\\n is a newline\")\n",
    "a = (\"Here\\tis a tab character and this\\n is a newline\")\n",
    "print (a)\n",
    "print (repr(a))"
   ]
  },
  {
   "cell_type": "markdown",
   "metadata": {},
   "source": [
    "### Slide 16"
   ]
  },
  {
   "cell_type": "code",
   "execution_count": 18,
   "metadata": {
    "collapsed": true
   },
   "outputs": [],
   "source": [
    "s1 = \"DNSC6119 Programming for Analytics\""
   ]
  },
  {
   "cell_type": "code",
   "execution_count": 19,
   "metadata": {},
   "outputs": [
    {
     "name": "stdout",
     "output_type": "stream",
     "text": [
      "DNSC6119 Programming for Analytics\n"
     ]
    }
   ],
   "source": [
    "print (s1)"
   ]
  },
  {
   "cell_type": "code",
   "execution_count": 20,
   "metadata": {},
   "outputs": [
    {
     "name": "stdout",
     "output_type": "stream",
     "text": [
      "D\n"
     ]
    }
   ],
   "source": [
    "print (s1[0])"
   ]
  },
  {
   "cell_type": "code",
   "execution_count": 21,
   "metadata": {},
   "outputs": [
    {
     "name": "stdout",
     "output_type": "stream",
     "text": [
      "s\n"
     ]
    }
   ],
   "source": [
    "print (s1[-1])"
   ]
  },
  {
   "cell_type": "code",
   "execution_count": 22,
   "metadata": {},
   "outputs": [
    {
     "name": "stdout",
     "output_type": "stream",
     "text": [
      "c\n"
     ]
    }
   ],
   "source": [
    "print (s1[-2])"
   ]
  },
  {
   "cell_type": "code",
   "execution_count": 23,
   "metadata": {},
   "outputs": [
    {
     "ename": "SyntaxError",
     "evalue": "unexpected EOF while parsing (<ipython-input-23-d527912057d3>, line 1)",
     "output_type": "error",
     "traceback": [
      "\u001b[1;36m  File \u001b[1;32m\"<ipython-input-23-d527912057d3>\"\u001b[1;36m, line \u001b[1;32m1\u001b[0m\n\u001b[1;33m    print (s1[2:6]\u001b[0m\n\u001b[1;37m                  ^\u001b[0m\n\u001b[1;31mSyntaxError\u001b[0m\u001b[1;31m:\u001b[0m unexpected EOF while parsing\n"
     ]
    }
   ],
   "source": [
    "print (s1[2:6]"
   ]
  },
  {
   "cell_type": "code",
   "execution_count": 24,
   "metadata": {},
   "outputs": [
    {
     "ename": "SyntaxError",
     "evalue": "invalid syntax (<ipython-input-24-cae335c02b20>, line 1)",
     "output_type": "error",
     "traceback": [
      "\u001b[1;36m  File \u001b[1;32m\"<ipython-input-24-cae335c02b20>\"\u001b[1;36m, line \u001b[1;32m1\u001b[0m\n\u001b[1;33m    print s1[4:])\u001b[0m\n\u001b[1;37m                ^\u001b[0m\n\u001b[1;31mSyntaxError\u001b[0m\u001b[1;31m:\u001b[0m invalid syntax\n"
     ]
    }
   ],
   "source": [
    "print s1[4:])"
   ]
  },
  {
   "cell_type": "code",
   "execution_count": 25,
   "metadata": {},
   "outputs": [
    {
     "name": "stdout",
     "output_type": "stream",
     "text": [
      "DNSC6119 P\n"
     ]
    }
   ],
   "source": [
    "print (s1[:10])"
   ]
  },
  {
   "cell_type": "code",
   "execution_count": 26,
   "metadata": {},
   "outputs": [
    {
     "name": "stdout",
     "output_type": "stream",
     "text": [
      "True\n"
     ]
    }
   ],
   "source": [
    "print (\"DN\" in s1)"
   ]
  },
  {
   "cell_type": "code",
   "execution_count": 27,
   "metadata": {},
   "outputs": [
    {
     "name": "stdout",
     "output_type": "stream",
     "text": [
      "False\n"
     ]
    }
   ],
   "source": [
    "print (\"For\" in s1)"
   ]
  },
  {
   "cell_type": "code",
   "execution_count": 28,
   "metadata": {},
   "outputs": [
    {
     "name": "stdout",
     "output_type": "stream",
     "text": [
      "Dnsc6119 Programming For Analytics\n"
     ]
    }
   ],
   "source": [
    "print (s1.title())   "
   ]
  },
  {
   "cell_type": "code",
   "execution_count": 29,
   "metadata": {},
   "outputs": [
    {
     "name": "stdout",
     "output_type": "stream",
     "text": [
      "dnsc6119 pROGRAMMING FOR aNALYTICS\n"
     ]
    }
   ],
   "source": [
    "print (s1.swapcase())"
   ]
  },
  {
   "cell_type": "code",
   "execution_count": 30,
   "metadata": {},
   "outputs": [
    {
     "name": "stdout",
     "output_type": "stream",
     "text": [
      "DNSC6119 PROGRAMMING FOR ANALYTICS\n"
     ]
    }
   ],
   "source": [
    "print (s1.upper())"
   ]
  },
  {
   "cell_type": "code",
   "execution_count": 31,
   "metadata": {},
   "outputs": [
    {
     "name": "stdout",
     "output_type": "stream",
     "text": [
      "dnsc6119 programming for analytics\n"
     ]
    }
   ],
   "source": [
    "print (s1.lower())"
   ]
  },
  {
   "cell_type": "code",
   "execution_count": 32,
   "metadata": {},
   "outputs": [
    {
     "name": "stdout",
     "output_type": "stream",
     "text": [
      "Dnsc6119 programming for analytics\n"
     ]
    }
   ],
   "source": [
    "print (s1.capitalize())"
   ]
  },
  {
   "cell_type": "code",
   "execution_count": 33,
   "metadata": {},
   "outputs": [
    {
     "name": "stdout",
     "output_type": "stream",
     "text": [
      "2\n"
     ]
    }
   ],
   "source": [
    "print (s1.count('a'))"
   ]
  },
  {
   "cell_type": "code",
   "execution_count": 34,
   "metadata": {},
   "outputs": [
    {
     "name": "stdout",
     "output_type": "stream",
     "text": [
      "15\n"
     ]
    }
   ],
   "source": [
    "print (s1.find('mm'))"
   ]
  },
  {
   "cell_type": "code",
   "execution_count": 35,
   "metadata": {},
   "outputs": [
    {
     "name": "stdout",
     "output_type": "stream",
     "text": [
      "mming for Analytics\n"
     ]
    }
   ],
   "source": [
    "print (s1[s1.index('mm'):])"
   ]
  },
  {
   "cell_type": "code",
   "execution_count": 36,
   "metadata": {},
   "outputs": [
    {
     "name": "stdout",
     "output_type": "stream",
     "text": [
      "27\n"
     ]
    }
   ],
   "source": [
    "print (s1.rfind('a'))"
   ]
  },
  {
   "cell_type": "code",
   "execution_count": 37,
   "metadata": {},
   "outputs": [
    {
     "name": "stdout",
     "output_type": "stream",
     "text": [
      "17\n"
     ]
    }
   ],
   "source": [
    "print (s1.find('i'))              # do without computing"
   ]
  },
  {
   "cell_type": "code",
   "execution_count": 38,
   "metadata": {},
   "outputs": [
    {
     "ename": "SyntaxError",
     "evalue": "unexpected EOF while parsing (<ipython-input-38-8f4fabba1808>, line 1)",
     "output_type": "error",
     "traceback": [
      "\u001b[1;36m  File \u001b[1;32m\"<ipython-input-38-8f4fabba1808>\"\u001b[1;36m, line \u001b[1;32m1\u001b[0m\n\u001b[1;33m    print (s1.rfind('i')             # do without computing\u001b[0m\n\u001b[1;37m                                                           ^\u001b[0m\n\u001b[1;31mSyntaxError\u001b[0m\u001b[1;31m:\u001b[0m unexpected EOF while parsing\n"
     ]
    }
   ],
   "source": [
    "print (s1.rfind('i')             # do without computing"
   ]
  },
  {
   "cell_type": "code",
   "execution_count": 39,
   "metadata": {},
   "outputs": [
    {
     "name": "stdout",
     "output_type": "stream",
     "text": [
      "amming for An\n"
     ]
    }
   ],
   "source": [
    "print (s1[s1.index('a'):s1.rindex('a')])"
   ]
  },
  {
   "cell_type": "code",
   "execution_count": 40,
   "metadata": {},
   "outputs": [
    {
     "name": "stdout",
     "output_type": "stream",
     "text": [
      "DNSC6119 ProgrZmming for AnZlytics\n"
     ]
    }
   ],
   "source": [
    "s2 = s1.replace('a', 'Z')\n",
    "print (s2)"
   ]
  },
  {
   "cell_type": "code",
   "execution_count": 41,
   "metadata": {},
   "outputs": [
    {
     "name": "stdout",
     "output_type": "stream",
     "text": [
      "['DNSC6119', 'Programming', 'for', 'Analytics']\n"
     ]
    }
   ],
   "source": [
    "mylist = s1.split(' ')\n",
    "print (mylist)"
   ]
  },
  {
   "cell_type": "code",
   "execution_count": 42,
   "metadata": {},
   "outputs": [
    {
     "name": "stdout",
     "output_type": "stream",
     "text": [
      "Programming for Analytics\n"
     ]
    }
   ],
   "source": [
    "s3 = mylist[1] + ' ' + mylist[2] + ' ' + mylist[3]\n",
    "print (s3)"
   ]
  },
  {
   "cell_type": "markdown",
   "metadata": {},
   "source": [
    "### Slide 17"
   ]
  },
  {
   "cell_type": "code",
   "execution_count": 45,
   "metadata": {},
   "outputs": [
    {
     "name": "stdout",
     "output_type": "stream",
     "text": [
      "['DNSC6119', 'Programming', 'for', 'Analytics', 'Section 10']\n"
     ]
    }
   ],
   "source": [
    "mylist.append(\"Section 10\")\n",
    "print mylist"
   ]
  },
  {
   "cell_type": "code",
   "execution_count": 43,
   "metadata": {},
   "outputs": [
    {
     "name": "stdout",
     "output_type": "stream",
     "text": [
      "['DNSC6119', 'Programming', 'for', 'Analytics']\n"
     ]
    }
   ],
   "source": [
    "mylist = s1.split(' ')\n",
    "print (mylist)"
   ]
  },
  {
   "cell_type": "code",
   "execution_count": 44,
   "metadata": {},
   "outputs": [
    {
     "name": "stdout",
     "output_type": "stream",
     "text": [
      "Programming for\n"
     ]
    }
   ],
   "source": [
    "s3 = mylist[1] + ' ' + mylist[2]\n",
    "print (s3)"
   ]
  },
  {
   "cell_type": "markdown",
   "metadata": {},
   "source": [
    "### Slide 18"
   ]
  },
  {
   "cell_type": "code",
   "execution_count": 46,
   "metadata": {},
   "outputs": [
    {
     "ename": "NameError",
     "evalue": "name 's' is not defined",
     "output_type": "error",
     "traceback": [
      "\u001b[1;31m\u001b[0m",
      "\u001b[1;31mNameError\u001b[0mTraceback (most recent call last)",
      "\u001b[1;32m<ipython-input-46-fdaea4929b4e>\u001b[0m in \u001b[0;36m<module>\u001b[1;34m()\u001b[0m\n\u001b[0;32m      1\u001b[0m \u001b[0ms4\u001b[0m \u001b[1;33m=\u001b[0m \u001b[1;34m'a3a'\u001b[0m\u001b[1;33m\u001b[0m\u001b[0m\n\u001b[1;32m----> 2\u001b[1;33m \u001b[0ms\u001b[0m\u001b[1;33m[\u001b[0m\u001b[1;36m1\u001b[0m\u001b[1;33m]\u001b[0m\u001b[1;33m\u001b[0m\u001b[0m\n\u001b[0m\u001b[0;32m      3\u001b[0m \u001b[0ms\u001b[0m\u001b[1;33m[\u001b[0m\u001b[1;36m1\u001b[0m\u001b[1;33m]\u001b[0m \u001b[1;33m=\u001b[0m \u001b[1;34m'a'\u001b[0m  \u001b[1;31m# Error, why?\u001b[0m\u001b[1;33m\u001b[0m\u001b[0m\n",
      "\u001b[1;31mNameError\u001b[0m: name 's' is not defined"
     ]
    }
   ],
   "source": [
    "s4 = 'a3a'\n",
    "s[1]\n",
    "s[1] = 'a'  # Error, why?"
   ]
  },
  {
   "cell_type": "code",
   "execution_count": 48,
   "metadata": {},
   "outputs": [
    {
     "data": {
      "text/plain": [
       "['a', '3', 'a']"
      ]
     },
     "execution_count": 48,
     "metadata": {},
     "output_type": "execute_result"
    }
   ],
   "source": [
    "ls5 = []\n",
    "ls5.append('a')\n",
    "ls5.append('3')\n",
    "ls5.append('a')\n",
    "ls5"
   ]
  },
  {
   "cell_type": "code",
   "execution_count": 52,
   "metadata": {},
   "outputs": [
    {
     "data": {
      "text/plain": [
       "['a', 'a', 'a']"
      ]
     },
     "execution_count": 52,
     "metadata": {},
     "output_type": "execute_result"
    }
   ],
   "source": [
    "ls5[1] = 'a'\n",
    "ls5"
   ]
  },
  {
   "cell_type": "markdown",
   "metadata": {},
   "source": [
    "### Slide 20"
   ]
  },
  {
   "cell_type": "code",
   "execution_count": 53,
   "metadata": {},
   "outputs": [
    {
     "data": {
      "text/plain": [
       "[2, 5, 8]"
      ]
     },
     "execution_count": 53,
     "metadata": {},
     "output_type": "execute_result"
    }
   ],
   "source": [
    "range(2,9,3)"
   ]
  },
  {
   "cell_type": "code",
   "execution_count": 54,
   "metadata": {},
   "outputs": [
    {
     "data": {
      "text/plain": [
       "25"
      ]
     },
     "execution_count": 54,
     "metadata": {},
     "output_type": "execute_result"
    }
   ],
   "source": [
    "pow(5,2)"
   ]
  },
  {
   "cell_type": "code",
   "execution_count": 55,
   "metadata": {},
   "outputs": [
    {
     "data": {
      "text/plain": [
       "14"
      ]
     },
     "execution_count": 55,
     "metadata": {},
     "output_type": "execute_result"
    }
   ],
   "source": [
    "sum([3,4,5,2])"
   ]
  },
  {
   "cell_type": "code",
   "execution_count": 56,
   "metadata": {},
   "outputs": [
    {
     "data": {
      "text/plain": [
       "[2, 3, 4, 5]"
      ]
     },
     "execution_count": 56,
     "metadata": {},
     "output_type": "execute_result"
    }
   ],
   "source": [
    "sorted([3,4,5,2])"
   ]
  },
  {
   "cell_type": "code",
   "execution_count": 57,
   "metadata": {},
   "outputs": [
    {
     "data": {
      "text/plain": [
       "['2', '3', '4', '5']"
      ]
     },
     "execution_count": 57,
     "metadata": {},
     "output_type": "execute_result"
    }
   ],
   "source": [
    "# OR\n",
    "sorted(\"3452\")"
   ]
  },
  {
   "cell_type": "code",
   "execution_count": 58,
   "metadata": {},
   "outputs": [
    {
     "data": {
      "text/plain": [
       "'  3.40'"
      ]
     },
     "execution_count": 58,
     "metadata": {},
     "output_type": "execute_result"
    }
   ],
   "source": [
    "format(3.4,\"6.2f\")"
   ]
  },
  {
   "cell_type": "markdown",
   "metadata": {},
   "source": [
    "### Slide 22"
   ]
  },
  {
   "cell_type": "code",
   "execution_count": null,
   "metadata": {
    "collapsed": true
   },
   "outputs": [],
   "source": [
    "c = None\n",
    "print(c)"
   ]
  },
  {
   "cell_type": "code",
   "execution_count": null,
   "metadata": {
    "collapsed": true
   },
   "outputs": [],
   "source": [
    "if c:\n",
    "    print(\"Hi\") \n",
    "\n",
    "if not(c):\n",
    "    print(\"Hi\") "
   ]
  },
  {
   "cell_type": "code",
   "execution_count": null,
   "metadata": {
    "collapsed": true
   },
   "outputs": [],
   "source": [
    "c == True"
   ]
  },
  {
   "cell_type": "code",
   "execution_count": null,
   "metadata": {
    "collapsed": true
   },
   "outputs": [],
   "source": [
    "not(c) == True"
   ]
  },
  {
   "cell_type": "code",
   "execution_count": null,
   "metadata": {
    "collapsed": true
   },
   "outputs": [],
   "source": [
    "c == False"
   ]
  },
  {
   "cell_type": "code",
   "execution_count": null,
   "metadata": {
    "collapsed": true
   },
   "outputs": [],
   "source": [
    "not(c) == False"
   ]
  },
  {
   "cell_type": "markdown",
   "metadata": {},
   "source": [
    "### Slide 23"
   ]
  },
  {
   "cell_type": "code",
   "execution_count": null,
   "metadata": {
    "collapsed": true
   },
   "outputs": [],
   "source": [
    "import random\n",
    "number = random.randint(0,20)\n",
    "print(\"I have a number between 0 and 20 in mind and you have to guess it.\")\n",
    "guess = int(input('Enter an integer : '))\n",
    "if guess == number:\n",
    "    print('Congratulations, you guessed it.')\n",
    "elif guess < number:\n",
    "    print('No, it is higher than that')\n",
    "else:\n",
    "    print('No, it is lower than that')"
   ]
  },
  {
   "cell_type": "markdown",
   "metadata": {},
   "source": [
    "### Slide 25"
   ]
  },
  {
   "cell_type": "code",
   "execution_count": null,
   "metadata": {
    "collapsed": true
   },
   "outputs": [],
   "source": [
    "numberin = int(input(\"Enter a number:\"))   # raw_input in Python 2.7\n",
    "result = -numberin if numberin < 0 else numberin\n",
    "print (\"Absolute value of  \", numberin, \" is \", result)"
   ]
  },
  {
   "cell_type": "markdown",
   "metadata": {},
   "source": [
    "### Slide 27"
   ]
  },
  {
   "cell_type": "code",
   "execution_count": 59,
   "metadata": {},
   "outputs": [
    {
     "name": "stdout",
     "output_type": "stream",
     "text": [
      "divide by zero\n"
     ]
    }
   ],
   "source": [
    "(x,y) = (5,0)\n",
    "try:\n",
    "    z = x/y\n",
    "except ZeroDivisionError:\n",
    "    print (\"divide by zero\")"
   ]
  },
  {
   "cell_type": "code",
   "execution_count": null,
   "metadata": {
    "collapsed": true
   },
   "outputs": [],
   "source": []
  },
  {
   "cell_type": "code",
   "execution_count": 60,
   "metadata": {},
   "outputs": [
    {
     "name": "stdout",
     "output_type": "stream",
     "text": [
      "integer division or modulo by zero\n"
     ]
    }
   ],
   "source": [
    "(x,y) = (5,0)\n",
    "try:\n",
    "    z = x/y\n",
    "except ZeroDivisionError as e:\n",
    "    z = e\n",
    "    print (z)"
   ]
  },
  {
   "cell_type": "code",
   "execution_count": 61,
   "metadata": {},
   "outputs": [
    {
     "name": "stdout",
     "output_type": "stream",
     "text": [
      "integer division or modulo by zero\n",
      "ZeroDivisionError('integer division or modulo by zero',)\n"
     ]
    }
   ],
   "source": [
    "(x,y) = (5,0)\n",
    "try:\n",
    "    z = x/y\n",
    "except Exception as e:\n",
    "    print (str(e))\n",
    "    print (repr(e))"
   ]
  },
  {
   "cell_type": "markdown",
   "metadata": {},
   "source": [
    "### Slide 28"
   ]
  },
  {
   "cell_type": "code",
   "execution_count": null,
   "metadata": {
    "collapsed": true
   },
   "outputs": [],
   "source": [
    "for i in range(5):\n",
    "    print (i)\n",
    "    print (i**2)\n",
    "    print (i*i*i)"
   ]
  },
  {
   "cell_type": "markdown",
   "metadata": {},
   "source": [
    "### Slide 29"
   ]
  },
  {
   "cell_type": "code",
   "execution_count": null,
   "metadata": {
    "collapsed": true
   },
   "outputs": [],
   "source": [
    "n = eval(input(\"How many numbers do you have? \"))\n",
    "sum = 0.0\n",
    "for i in range(n):\n",
    "    x = eval(input(\"Enter a number >> \"))\n",
    "    sum = sum + x\n",
    "print(\"\\nThe average of the numbers is\", sum / n)"
   ]
  },
  {
   "cell_type": "markdown",
   "metadata": {},
   "source": [
    "### Slide 30"
   ]
  },
  {
   "cell_type": "code",
   "execution_count": null,
   "metadata": {
    "collapsed": true
   },
   "outputs": [],
   "source": [
    "for x in range(0, 4, 2):\n",
    "    print (\"This is index %d\" % (x))"
   ]
  },
  {
   "cell_type": "code",
   "execution_count": null,
   "metadata": {
    "collapsed": true
   },
   "outputs": [],
   "source": [
    "for x in range(7, 0, -3):\n",
    "    print (\"This is index %d\" % (x))"
   ]
  },
  {
   "cell_type": "markdown",
   "metadata": {},
   "source": [
    "### Slide 31"
   ]
  },
  {
   "cell_type": "code",
   "execution_count": null,
   "metadata": {
    "collapsed": true
   },
   "outputs": [],
   "source": [
    "for x in range(0, 3):\n",
    "    for y in range(0, 2):\n",
    "        print ('%d * %d = %d' % (x, y, x*y))"
   ]
  },
  {
   "cell_type": "code",
   "execution_count": null,
   "metadata": {
    "collapsed": true
   },
   "outputs": [],
   "source": [
    "for x in range(300):\n",
    "    print (x)\n",
    "    if x == 11:\n",
    "        break"
   ]
  },
  {
   "cell_type": "markdown",
   "metadata": {},
   "source": [
    "### Slide 32"
   ]
  },
  {
   "cell_type": "code",
   "execution_count": 62,
   "metadata": {},
   "outputs": [
    {
     "name": "stdout",
     "output_type": "stream",
     "text": [
      "H\n",
      "e\n",
      "l\n",
      "l\n",
      "o\n",
      " \n",
      "t\n",
      "h\n",
      "e\n",
      "r\n",
      "e\n"
     ]
    }
   ],
   "source": [
    "mystring = \"Hello there\"\n",
    "for x in mystring:\n",
    "    print (x)"
   ]
  },
  {
   "cell_type": "code",
   "execution_count": 63,
   "metadata": {},
   "outputs": [
    {
     "name": "stdout",
     "output_type": "stream",
     "text": [
      "Hello\n",
      "True\n",
      "5\n",
      "5.0\n",
      "(2, 3)\n"
     ]
    }
   ],
   "source": [
    "mycollection = ['Hello', True, 5, 5.0, (2,3)]\n",
    "for x in mycollection:\n",
    "    print (x)"
   ]
  },
  {
   "cell_type": "markdown",
   "metadata": {},
   "source": [
    "### Slide 33"
   ]
  },
  {
   "cell_type": "code",
   "execution_count": 1,
   "metadata": {},
   "outputs": [
    {
     "name": "stdout",
     "output_type": "stream",
     "text": [
      "0\n",
      "1\n",
      "2\n",
      "3\n",
      "4\n",
      "5\n",
      "6\n",
      "7\n",
      "8\n",
      "9\n",
      "10\n"
     ]
    }
   ],
   "source": [
    "i = 0\n",
    "while i <= 10:\n",
    "    print(i)\n",
    "    i = i + 1"
   ]
  },
  {
   "cell_type": "code",
   "execution_count": 2,
   "metadata": {},
   "outputs": [
    {
     "name": "stdout",
     "output_type": "stream",
     "text": [
      "0\n",
      "1\n",
      "2\n",
      "3\n",
      "4\n",
      "5\n",
      "6\n",
      "7\n",
      "8\n",
      "9\n",
      "10\n"
     ]
    }
   ],
   "source": [
    "for i in range(11):\n",
    "    print(i)"
   ]
  },
  {
   "cell_type": "markdown",
   "metadata": {},
   "source": [
    "### Slide 34"
   ]
  },
  {
   "cell_type": "code",
   "execution_count": 64,
   "metadata": {},
   "outputs": [
    {
     "name": "stdout",
     "output_type": "stream",
     "text": [
      "I have gnerated a number between 0 and 100 and you have to guess it.\n",
      "Enter an integer : 5\n",
      "No, it is lower than that\n",
      "Enter an integer : 1\n",
      "No, it is higher than that\n",
      "Enter an integer : 3\n",
      "No, it is higher than that\n",
      "Enter an integer : 4\n",
      "Congratulations, you guessed it.\n"
     ]
    }
   ],
   "source": [
    "import random\n",
    "number = random.randint(0,10)\n",
    "print(\"I have gnerated a number between 0 and 100 and you have to guess it.\")\n",
    "\n",
    "while ('some condition'):\n",
    "    guess = int(input('Enter an integer : '))\n",
    "    if guess == number:\n",
    "        print('Congratulations, you guessed it.') \n",
    "        break\n",
    "    elif guess < number:\n",
    "        print('No, it is higher than that')\n",
    "    else:\n",
    "        print('No, it is lower than that')"
   ]
  },
  {
   "cell_type": "markdown",
   "metadata": {},
   "source": [
    "### Slide 36"
   ]
  },
  {
   "cell_type": "code",
   "execution_count": null,
   "metadata": {
    "collapsed": true,
    "scrolled": true
   },
   "outputs": [],
   "source": [
    "lst = [[1,2,3],[22,33,44],[21,31,41,51,61],[111,222,333,444,555,666],[101,202]]\n",
    "\n",
    "for i in lst:\n",
    "    for j in i:\n",
    "         print (i, j)\n",
    "\n",
    "\n",
    "for idx, val1 in enumerate(lst):\n",
    "    for idex, val2 in enumerate(val1):\n",
    "        print (idx,  \" --- \", idex, \" --- \", val2)\n",
    "        \n",
    "for idx, val1 in enumerate(lst):\n",
    "        print (idx,  \" --- \", \" Value --- \", val1)"
   ]
  },
  {
   "cell_type": "markdown",
   "metadata": {},
   "source": [
    "### Slide 37"
   ]
  },
  {
   "cell_type": "code",
   "execution_count": null,
   "metadata": {
    "collapsed": true
   },
   "outputs": [],
   "source": [
    "# First Example\n",
    "for letter in 'Python':\n",
    "   if letter == 'h':\n",
    "      continue\n",
    "   print ('Current Letter :', letter)\n"
   ]
  },
  {
   "cell_type": "code",
   "execution_count": null,
   "metadata": {
    "collapsed": true
   },
   "outputs": [],
   "source": [
    "# Second Example\n",
    "var = 10\n",
    "while var > 0:              \n",
    "   var = var -1\n",
    "   if var == 5:\n",
    "      continue\n",
    "   print ('Current variable value :', var)\n",
    "print (\"Good bye!\")"
   ]
  },
  {
   "cell_type": "markdown",
   "metadata": {},
   "source": [
    "### Slide 42"
   ]
  },
  {
   "cell_type": "code",
   "execution_count": 65,
   "metadata": {
    "scrolled": true
   },
   "outputs": [
    {
     "name": "stdout",
     "output_type": "stream",
     "text": [
      "(CNN)The amount of time young children in the United States \n",
      "spend with mobile screens might raise some eyebrows, as a new\n",
      " report found it has tripled in just four years.\n",
      "\n",
      "Children 8 and younger spent about 15 minutes a day staring at\n",
      "a mobile screen in 2013 and now they spend 48 minutes a day, \n",
      "according to the report by Common Sense Media, a nonprofit \n",
      "organization focused on helping children, parents, and educators\n",
      "navigate the world of media and technology.\n",
      "\n",
      "The report, released Thursday, also found that 42% of children 8\n",
      "and younger now have their own tablet devices, a steep increase\n",
      "from 7% four years ago and less than 1% in 2011.\n"
     ]
    }
   ],
   "source": [
    "filepath = \"mytext.txt\"\n",
    "file_handle = open(filepath, 'r')\n",
    "content = file_handle.read()\n",
    "print (content)"
   ]
  },
  {
   "cell_type": "markdown",
   "metadata": {},
   "source": [
    "### Slide 45"
   ]
  },
  {
   "cell_type": "code",
   "execution_count": 66,
   "metadata": {
    "collapsed": true
   },
   "outputs": [],
   "source": [
    "fh = open('test-file.txt', 'w')\n",
    "fh.write(\"Hello, there!\")\n",
    "fh.write(\"How are you doing\")\n",
    "fh.close()"
   ]
  },
  {
   "cell_type": "code",
   "execution_count": 67,
   "metadata": {
    "collapsed": true
   },
   "outputs": [],
   "source": [
    "with open('output.txt', 'w') as f:\n",
    "    f.write('Hi there!'+'\\n')\n",
    "    f.write(\"How are you doing\")"
   ]
  },
  {
   "cell_type": "code",
   "execution_count": 69,
   "metadata": {},
   "outputs": [
    {
     "name": "stdout",
     "output_type": "stream",
     "text": [
      "['(CNN)The amount of time young children in the United States \\n', 'spend with mobile screens might raise some eyebrows, as a new\\n', ' report found it has tripled in just four years.\\n', '\\n', 'Children 8 and younger spent about 15 minutes a day staring at\\n', 'a mobile screen in 2013 and now they spend 48 minutes a day, \\n', 'according to the report by Common Sense Media, a nonprofit \\n', 'organization focused on helping children, parents, and educators\\n', 'navigate the world of media and technology.\\n', '\\n', 'The report, released Thursday, also found that 42% of children 8\\n', 'and younger now have their own tablet devices, a steep increase\\n', 'from 7% four years ago and less than 1% in 2011.']\n",
      "['(CNN)The amount of time young children in the United States \\n', 'spend with mobile screens might raise some eyebrows, as a new\\n', ' report found it has tripled in just four years.\\n', '\\n', 'Children 8 and younger spent about 15 minutes a day staring at\\n', 'a mobile screen in 2013 and now they spend 48 minutes a day, \\n', 'according to the report by Common Sense Media, a nonprofit \\n', 'organization focused on helping children, parents, and educators\\n', 'navigate the world of media and technology.\\n', '\\n', 'The report, released Thursday, also found that 42% of children 8\\n', 'and younger now have their own tablet devices, a steep increase\\n', 'from 7% four years ago and less than 1% in 2011.']\n",
      "['(CNN)The amount of time young children in the United States \\n', 'spend with mobile screens might raise some eyebrows, as a new\\n', ' report found it has tripled in just four years.\\n', '\\n', 'Children 8 and younger spent about 15 minutes a day staring at\\n', 'a mobile screen in 2013 and now they spend 48 minutes a day, \\n', 'according to the report by Common Sense Media, a nonprofit \\n', 'organization focused on helping children, parents, and educators\\n', 'navigate the world of media and technology.\\n', '\\n', 'The report, released Thursday, also found that 42% of children 8\\n', 'and younger now have their own tablet devices, a steep increase\\n', 'from 7% four years ago and less than 1% in 2011.']\n",
      "['(CNN)The amount of time young children in the United States \\n', 'spend with mobile screens might raise some eyebrows, as a new\\n', ' report found it has tripled in just four years.\\n', '\\n', 'Children 8 and younger spent about 15 minutes a day staring at\\n', 'a mobile screen in 2013 and now they spend 48 minutes a day, \\n', 'according to the report by Common Sense Media, a nonprofit \\n', 'organization focused on helping children, parents, and educators\\n', 'navigate the world of media and technology.\\n', '\\n', 'The report, released Thursday, also found that 42% of children 8\\n', 'and younger now have their own tablet devices, a steep increase\\n', 'from 7% four years ago and less than 1% in 2011.']\n",
      "['(CNN)The amount of time young children in the United States \\n', 'spend with mobile screens might raise some eyebrows, as a new\\n', ' report found it has tripled in just four years.\\n', '\\n', 'Children 8 and younger spent about 15 minutes a day staring at\\n', 'a mobile screen in 2013 and now they spend 48 minutes a day, \\n', 'according to the report by Common Sense Media, a nonprofit \\n', 'organization focused on helping children, parents, and educators\\n', 'navigate the world of media and technology.\\n', '\\n', 'The report, released Thursday, also found that 42% of children 8\\n', 'and younger now have their own tablet devices, a steep increase\\n', 'from 7% four years ago and less than 1% in 2011.']\n",
      "['(CNN)The amount of time young children in the United States \\n', 'spend with mobile screens might raise some eyebrows, as a new\\n', ' report found it has tripled in just four years.\\n', '\\n', 'Children 8 and younger spent about 15 minutes a day staring at\\n', 'a mobile screen in 2013 and now they spend 48 minutes a day, \\n', 'according to the report by Common Sense Media, a nonprofit \\n', 'organization focused on helping children, parents, and educators\\n', 'navigate the world of media and technology.\\n', '\\n', 'The report, released Thursday, also found that 42% of children 8\\n', 'and younger now have their own tablet devices, a steep increase\\n', 'from 7% four years ago and less than 1% in 2011.']\n",
      "['(CNN)The amount of time young children in the United States \\n', 'spend with mobile screens might raise some eyebrows, as a new\\n', ' report found it has tripled in just four years.\\n', '\\n', 'Children 8 and younger spent about 15 minutes a day staring at\\n', 'a mobile screen in 2013 and now they spend 48 minutes a day, \\n', 'according to the report by Common Sense Media, a nonprofit \\n', 'organization focused on helping children, parents, and educators\\n', 'navigate the world of media and technology.\\n', '\\n', 'The report, released Thursday, also found that 42% of children 8\\n', 'and younger now have their own tablet devices, a steep increase\\n', 'from 7% four years ago and less than 1% in 2011.']\n",
      "['(CNN)The amount of time young children in the United States \\n', 'spend with mobile screens might raise some eyebrows, as a new\\n', ' report found it has tripled in just four years.\\n', '\\n', 'Children 8 and younger spent about 15 minutes a day staring at\\n', 'a mobile screen in 2013 and now they spend 48 minutes a day, \\n', 'according to the report by Common Sense Media, a nonprofit \\n', 'organization focused on helping children, parents, and educators\\n', 'navigate the world of media and technology.\\n', '\\n', 'The report, released Thursday, also found that 42% of children 8\\n', 'and younger now have their own tablet devices, a steep increase\\n', 'from 7% four years ago and less than 1% in 2011.']\n",
      "['(CNN)The amount of time young children in the United States \\n', 'spend with mobile screens might raise some eyebrows, as a new\\n', ' report found it has tripled in just four years.\\n', '\\n', 'Children 8 and younger spent about 15 minutes a day staring at\\n', 'a mobile screen in 2013 and now they spend 48 minutes a day, \\n', 'according to the report by Common Sense Media, a nonprofit \\n', 'organization focused on helping children, parents, and educators\\n', 'navigate the world of media and technology.\\n', '\\n', 'The report, released Thursday, also found that 42% of children 8\\n', 'and younger now have their own tablet devices, a steep increase\\n', 'from 7% four years ago and less than 1% in 2011.']\n",
      "['(CNN)The amount of time young children in the United States \\n', 'spend with mobile screens might raise some eyebrows, as a new\\n', ' report found it has tripled in just four years.\\n', '\\n', 'Children 8 and younger spent about 15 minutes a day staring at\\n', 'a mobile screen in 2013 and now they spend 48 minutes a day, \\n', 'according to the report by Common Sense Media, a nonprofit \\n', 'organization focused on helping children, parents, and educators\\n', 'navigate the world of media and technology.\\n', '\\n', 'The report, released Thursday, also found that 42% of children 8\\n', 'and younger now have their own tablet devices, a steep increase\\n', 'from 7% four years ago and less than 1% in 2011.']\n",
      "['(CNN)The amount of time young children in the United States \\n', 'spend with mobile screens might raise some eyebrows, as a new\\n', ' report found it has tripled in just four years.\\n', '\\n', 'Children 8 and younger spent about 15 minutes a day staring at\\n', 'a mobile screen in 2013 and now they spend 48 minutes a day, \\n', 'according to the report by Common Sense Media, a nonprofit \\n', 'organization focused on helping children, parents, and educators\\n', 'navigate the world of media and technology.\\n', '\\n', 'The report, released Thursday, also found that 42% of children 8\\n', 'and younger now have their own tablet devices, a steep increase\\n', 'from 7% four years ago and less than 1% in 2011.']\n",
      "['(CNN)The amount of time young children in the United States \\n', 'spend with mobile screens might raise some eyebrows, as a new\\n', ' report found it has tripled in just four years.\\n', '\\n', 'Children 8 and younger spent about 15 minutes a day staring at\\n', 'a mobile screen in 2013 and now they spend 48 minutes a day, \\n', 'according to the report by Common Sense Media, a nonprofit \\n', 'organization focused on helping children, parents, and educators\\n', 'navigate the world of media and technology.\\n', '\\n', 'The report, released Thursday, also found that 42% of children 8\\n', 'and younger now have their own tablet devices, a steep increase\\n', 'from 7% four years ago and less than 1% in 2011.']\n",
      "['(CNN)The amount of time young children in the United States \\n', 'spend with mobile screens might raise some eyebrows, as a new\\n', ' report found it has tripled in just four years.\\n', '\\n', 'Children 8 and younger spent about 15 minutes a day staring at\\n', 'a mobile screen in 2013 and now they spend 48 minutes a day, \\n', 'according to the report by Common Sense Media, a nonprofit \\n', 'organization focused on helping children, parents, and educators\\n', 'navigate the world of media and technology.\\n', '\\n', 'The report, released Thursday, also found that 42% of children 8\\n', 'and younger now have their own tablet devices, a steep increase\\n', 'from 7% four years ago and less than 1% in 2011.']\n"
     ]
    }
   ],
   "source": [
    "with open('mytext.txt', 'r') as f:\n",
    "    a = f.readlines()\n",
    "for eachline in a:\n",
    "    print a"
   ]
  },
  {
   "cell_type": "code",
   "execution_count": null,
   "metadata": {
    "collapsed": true
   },
   "outputs": [],
   "source": [
    "read = True\n",
    "num = 0\n",
    "sum = 0\n",
    "while read:\n",
    "    x = input(\"Please enter a number ...\")\n",
    "    if x < 0: \n",
    "        read = False\n",
    "        break\n",
    "    sum = sum + float(x)\n",
    "    num = num + 1\n",
    "print sum/num"
   ]
  },
  {
   "cell_type": "code",
   "execution_count": null,
   "metadata": {
    "collapsed": true
   },
   "outputs": [],
   "source": []
  }
 ],
 "metadata": {
  "anaconda-cloud": {},
  "kernelspec": {
   "display_name": "Python 3",
   "language": "python",
   "name": "python3"
  },
  "language_info": {
   "codemirror_mode": {
    "name": "ipython",
    "version": 3
   },
   "file_extension": ".py",
   "mimetype": "text/x-python",
   "name": "python",
   "nbconvert_exporter": "python",
   "pygments_lexer": "ipython3",
   "version": "3.6.3"
  }
 },
 "nbformat": 4,
 "nbformat_minor": 1
}
